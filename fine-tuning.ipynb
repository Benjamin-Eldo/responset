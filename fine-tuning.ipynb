{
 "cells": [
  {
   "cell_type": "code",
   "execution_count": 21,
   "metadata": {},
   "outputs": [
    {
     "name": "stderr",
     "output_type": "stream",
     "text": [
      "Loading checkpoint shards: 100%|██████████| 2/2 [00:00<00:00,  8.31it/s]\n",
      "/tmp/ipykernel_28863/294850055.py:8: FutureWarning: `tokenizer` is deprecated and will be removed in version 5.0.0 for `Trainer.__init__`. Use `processing_class` instead.\n",
      "  trainer = Trainer(\n"
     ]
    }
   ],
   "source": [
    "# Load model directly\n",
    "from transformers import AutoProcessor, AutoModelForImageTextToText, AutoTokenizer, pipeline, Trainer\n",
    "\n",
    "processor = AutoProcessor.from_pretrained(\"bczhou/tiny-llava-v1-hf\")\n",
    "model = AutoModelForImageTextToText.from_pretrained(\"bczhou/tiny-llava-v1-hf\")\n",
    "tokenizer = AutoTokenizer.from_pretrained(\"bczhou/tiny-llava-v1-hf\")\n",
    "\n",
    "trainer = Trainer(\n",
    "    model = model,\n",
    "    tokenizer = tokenizer,\n",
    ")"
   ]
  },
  {
   "cell_type": "code",
   "execution_count": 22,
   "metadata": {},
   "outputs": [
    {
     "name": "stderr",
     "output_type": "stream",
     "text": [
      "Loading checkpoint shards: 100%|██████████| 2/2 [00:00<00:00,  8.34it/s]\n",
      "Device set to use cpu\n"
     ]
    }
   ],
   "source": [
    "from transformers import pipeline\n",
    "from PIL import Image\n",
    "model_id = \"bczhou/tiny-llava-v1-hf\"\n",
    "pipe = pipeline(\"image-to-text\", model=model_id)"
   ]
  },
  {
   "cell_type": "code",
   "execution_count": 23,
   "metadata": {},
   "outputs": [
    {
     "name": "stderr",
     "output_type": "stream",
     "text": [
      "Passing `prompt` to the `image-to-text` pipeline is deprecated and will be removed in version 4.48 of 🤗 Transformers. Use the `image-text-to-text` pipeline instead\n",
      "Expanding inputs for image tokens in LLaVa should be done in processing. Please add `patch_size` and `vision_feature_select_strategy` to the model's processing config or set directly with `processor.patch_size = {{patch_size}}` and processor.vision_feature_select_strategy = {{vision_feature_select_strategy}}`. Using processors without these attributes in the config is deprecated and will throw an error in v4.50.\n"
     ]
    },
    {
     "name": "stdout",
     "output_type": "stream",
     "text": [
      "{'generated_text': \"USER:  \\nWhat is on this image\\nASSISTANT: The image is a screenshot of a website page displaying information about the game Borderlands 1. The page is in French and features a large image of a character, possibly a zombie, with a description of the game. The page also includes a list of the game's features, such as the number of players, the number of levels, and the number of weapons. The website is designed in a modern and visually appealing style, with a focus on the game's content and features.\"}\n"
     ]
    }
   ],
   "source": [
    "image = Image.open(\"./model/images/test.png\")\n",
    "prompt = \"USER: <image>\\nWhat is on this image\\nASSISTANT:\"\n",
    "outputs = pipe(image, prompt=prompt, generate_kwargs={\"max_new_tokens\": 200})\n",
    "print(outputs[0])\n"
   ]
  },
  {
   "cell_type": "code",
   "execution_count": 24,
   "metadata": {},
   "outputs": [],
   "source": [
    "from datasets import load_dataset\n",
    "from PIL import Image\n",
    "from io import BytesIO\n",
    "import requests\n",
    "import os\n",
    "import json\n",
    "import uuid"
   ]
  },
  {
   "cell_type": "code",
   "execution_count": 25,
   "metadata": {},
   "outputs": [
    {
     "name": "stdout",
     "output_type": "stream",
     "text": [
      "['samsungapps_com_desktop.html', 'instructure_com_mobile.html', 'hotmail_com_desktop.html', 'imgsmail_ru_mobile.html', 'google_it_desktop.html', 'me_com_desktop.html', 'si_com_mobile.html', 'cloudflare-dns_com_mobile.html', 'mediatek_com_desktop.html', 'a-mo_net_desktop.html', 'inmobi_com_mobile.html', 'ip-api_com_desktop.html', 'eset_com_mobile.html', 'rapid7_com_desktop.html', 'yelp_com_mobile.html', 'amazon_com_au_desktop.html', 'force_com_mobile.html', 'f5_com_mobile.html', 'seznam_cz_mobile.html', 'lenta_com_desktop.html', 'applovin_com_mobile.html', 'viber_com_mobile.html', 'vkuseraudio_net_mobile.html', 'foxnews_com_mobile.html', 'zemanta_com_desktop.html', 'vivoglobal_com_desktop.html', 'googlevideo_com_mobile.html', 'themeforest_net_desktop.html', 'bugsnag_com_desktop.html', 'ampproject_org_mobile.html', 'adsafeprotected_com_desktop.html', 'elpais_com_mobile.html', '1c_ru_desktop.html', 'onetag-sys_com_mobile.html', 'google_fr_mobile.html', 'digicert_com_desktop.html', 'amazon_es_mobile.html', 'springer_com_desktop.html', 'cbsnews_com_mobile.html', 'google_co_uk_desktop.html', 'forter_com_desktop.html', 'casalemedia_com_desktop.html', 'hm_com_desktop.html', 'google_co_jp_desktop.html', 'brave_com_desktop.html', 'xserver_jp_desktop.html', 'mlb_com_mobile.html', 'ameblo_jp_desktop.html', 'opera_com_mobile.html', 'elasticbeanstalk_com_desktop.html', 'quickconnect_to_desktop.html', 'trustpilot_com_mobile.html', 'mit_edu_desktop.html', 'microsoft_com_desktop.html', 'g_page_desktop.html', 'livejournal_com_desktop.html', 'shopify_com_mobile.html', 'bbc_com_mobile.html', 'independent_co_uk_mobile.html', 'realtor_com_mobile.html', 'nginx_com_mobile.html', 'yahoo_com_mobile.html', 'google_com_br_desktop.html', 'adsrvr_org_desktop.html', 'youtube_com_desktop.html', 'adriver_ru_mobile.html', '3lift_com_mobile.html', 'rakuten_co_jp_mobile.html', 'usatoday_com_desktop.html', 'google_com_tr_desktop.html', 'xboxlive_com_desktop.html', 'sourceforge_net_desktop.html', 'quantserve_com_desktop.html', 'huffpost_com_desktop.html', 'ubuntu_com_mobile.html', 'mega_co_nz_desktop.html', 'firetvcaptiveportal_com_mobile.html', 'nbcnews_com_desktop.html', 'weather_com_desktop.html', 'ozon_ru_mobile.html', 'hbr_org_desktop.html', 'dotomi_com_mobile.html', 'richaudience_com_mobile.html', 'wyzecam_com_desktop.html', 'istockphoto_com_mobile.html', 'lowes_com_mobile.html', 'unrulymedia_com_desktop.html', 'deltaork_com_desktop.html', 'contextweb_com_desktop.html', 'maricopa_gov_desktop.html', 'example_com_desktop.html', 'rspamd_com_desktop.html', 'quizlet_com_mobile.html', 'telekom_net_mobile.html', 'xiaomi_com_desktop.html', 'usda_gov_mobile.html', 'php_net_desktop.html', 'dyndns_org_mobile.html', 'accuweather_com_mobile.html', 'globo_com_mobile.html', 'twitter_com_mobile.html', 'dribbble_com_desktop.html', 'googleusercontent_com_mobile.html', 'agoda_com_mobile.html', 'adobe_net_mobile.html', 'pusher_com_mobile.html', 'smartthings_com_mobile.html', 'ietf_org_mobile.html', 'duolingo_com_mobile.html', 'google-analytics_com_desktop.html', 'kohls_com_desktop.html', 'reg_ru_desktop.html', 'skyhigh_cloud_desktop.html', 'blogger_com_mobile.html', 'crpt_ru_desktop.html', 'kickstarter_com_mobile.html', 'giphy_com_desktop.html', 'pusher_com_desktop.html', 'userapi_com_mobile.html', 'cloudinary_com_desktop.html', 'reuters_com_mobile.html', 'bilibili_com_desktop.html', 'kaspi_kz_mobile.html', 'bootstrapcdn_com_mobile.html', 'scribd_com_mobile.html', 'ivi_ru_desktop.html', 'telecid_ru_desktop.html', 'reuters_com_desktop.html', 'opendns_com_desktop.html', 'plesk_com_desktop.html', 'ieee_org_mobile.html', 'checkpoint_com_mobile.html', 'pki_goog_mobile.html', 'mysql_com_mobile.html', 'typeform_com_mobile.html', 'amazon_in_desktop.html', 'verisign_com_mobile.html', 'vivo_com_cn_desktop.html', 'facebook_com_mobile.html', 'drom_ru_desktop.html', 'sagepub_com_desktop.html', 'media_net_mobile.html', 'ebay_co_uk_mobile.html', 'webmd_com_desktop.html', 'apnews_com_mobile.html', 'mercadolivre_com_br_desktop.html', 'economist_com_desktop.html', 'google-analytics_com_mobile.html', 'alphonso_tv_mobile.html', 'tokopedia_com_desktop.html', 'imdb_com_desktop.html', '33across_com_mobile.html', 'skype_com_mobile.html', 'timeweb_ru_desktop.html', 'francetvinfo_fr_mobile.html', 'sina_com_cn_desktop.html', 'google_com_desktop.html', 'markmonitor_com_desktop.html', 'wix_com_mobile.html', 'x_com_desktop.html', 'chatgpt_com_desktop.html', 'clever_com_desktop.html', 'fda_gov_mobile.html', 'rambler_ru_mobile.html', 'okcdn_ru_desktop.html', 'comcast_com_mobile.html', 'sonobi_com_mobile.html', 'miui_com_desktop.html', 'azure_com_mobile.html', 'hilton_com_desktop.html', 'cbc_ca_mobile.html', 'clever_com_mobile.html', 'merriam-webster_com_desktop.html', 'sberdevices_ru_desktop.html', 'aliexpress_com_desktop.html', 'forms_gle_mobile.html', 'rutube_ru_mobile.html', 'lefigaro_fr_desktop.html', 'daum_net_mobile.html', 'deltaork_com_mobile.html', 'deloitte_com_desktop.html', 'stbid_ru_mobile.html', 'infonline_de_mobile.html', 'tinkoff_ru_desktop.html', 'ea_com_mobile.html', 'google_es_mobile.html', 'googledomains_com_mobile.html', 'adtrafficquality_google_desktop.html', 'aboutads_info_mobile.html', 'cloudns_net_desktop.html', 't_me_desktop.html', 'amazon_it_mobile.html', 'shopee_com_br_mobile.html', 'ebay_de_mobile.html', 'avast_com_desktop.html', 'pages_dev_desktop.html', 'herokuapp_com_desktop.html', 'www_gov_br_desktop.html', 'intercom_io_mobile.html', 'arxiv_org_mobile.html', 'nest_com_mobile.html', 'gravatar_com_mobile.html', 'aliyun_com_desktop.html', 'theguardian_com_desktop.html', 'google_cn_desktop.html', 'wp_com_desktop.html', 'w3_org_desktop.html', 'nature_com_desktop.html', 'app-analytics-services_com_mobile.html', 'instagram_com_desktop.html', 'mailchimp_com_mobile.html', 'hihonorcloud_com_mobile.html', 'g_page_mobile.html', 'eset_com_desktop.html', 'discord_com_mobile.html', 'gosuslugi_ru_mobile.html', 'allaboutcookies_org_desktop.html', 'yelp_com_desktop.html', 'nist_gov_desktop.html', 'redhat_com_desktop.html', 'erome_com_desktop.html', 'sberdevices_ru_mobile.html', 'amazon_com_br_mobile.html', 'businesswire_com_desktop.html', 'oup_com_mobile.html', 'tremorhub_com_mobile.html', 'unity3d_com_mobile.html', 'freepik_com_mobile.html', 'dnsmadeeasy_com_desktop.html', 'binance_com_desktop.html', 'ioam_de_mobile.html', 'atlassian_net_desktop.html', 'launchdarkly_com_mobile.html', 'telegram_me_mobile.html', 'time_com_mobile.html', 'rutube_ru_desktop.html', 'comcast_net_mobile.html', 'worldbank_org_mobile.html', 'arubanetworks_com_desktop.html', 'xing_com_mobile.html', 'lemonde_fr_mobile.html', 'alibaba_com_desktop.html', 'onet_pl_mobile.html', 'stackoverflow_com_desktop.html', 'globo_com_desktop.html', 'hotjar_com_mobile.html', 'algolia_net_desktop.html', 'attn_tv_desktop.html', 'weforum_org_mobile.html', 'postrelease_com_mobile.html', 'vivo_com_cn_mobile.html', 'tds_net_desktop.html', 'datadoghq_com_desktop.html', 'tremorhub_com_desktop.html', 'lenovo_com_mobile.html', 'life360_com_desktop.html', 'line_me_desktop.html', 'state_gov_desktop.html', 'instagram_com_mobile.html', 'telekom_net_desktop.html', 'intel_com_desktop.html', 'archive_org_desktop.html', 'zoom_us_desktop.html', 'bloomberg_com_desktop.html', 'webmd_com_mobile.html', 'google_com_mx_mobile.html', 'tapad_com_desktop.html', 'shopeemobile_com_desktop.html', 'ui_com_desktop.html', 'outlook_com_desktop.html', 'creativecommons_org_mobile.html', 'duolingo_com_desktop.html', 'discord_com_desktop.html', 'amazonaws_com_mobile.html', 'nike_com_mobile.html', 'withgoogle_com_desktop.html', 'target_com_mobile.html', 'netflix_net_mobile.html', 'patreon_com_desktop.html', 'ip-api_com_mobile.html', 'icloud_com_desktop.html', 'cookiedatabase_org_mobile.html', 'aniview_com_mobile.html', 'att_net_desktop.html', 'opera_com_desktop.html', 'surveymonkey_com_mobile.html', 'miwifi_com_desktop.html', 'epa_gov_desktop.html', 'nikkei_com_desktop.html', '166_com_desktop.html', 'atlassian_net_mobile.html', 'squarespace_com_desktop.html', 'lenta_tech_desktop.html', 'fbsbx_com_mobile.html', 'espn_com_desktop.html', 'yieldmo_com_desktop.html', 'mgid_com_mobile.html', 'steamcommunity_com_desktop.html', 'fedex_com_desktop.html', 'goo_gl_desktop.html', 'oup_com_desktop.html', 'shopee_co_id_desktop.html', 'cloudflareinsights_com_mobile.html', 'opendns_com_mobile.html', 'googledomains_com_desktop.html', 'gumgum_com_desktop.html', 'tp-link_com_mobile.html', 'seznam_cz_desktop.html', 'amazon_in_mobile.html', 'telegram_me_desktop.html', 'discord_gg_mobile.html', 'weebly_com_desktop.html', 'doubleclick_net_desktop.html', 'google_ca_mobile.html', 'flashtalking_com_desktop.html', 'canonical_com_mobile.html', 'hihonorcloud_com_desktop.html', 'line_me_mobile.html', 'fb_me_mobile.html', 'unsplash_com_desktop.html', 'pvp_net_mobile.html', 'netgear_com_mobile.html', 'telekom_de_desktop.html', 'bing_com_mobile.html', 'criteo_com_desktop.html', 'shein_com_mobile.html', 'usps_com_mobile.html', 'theconversation_com_desktop.html', 'browser-intake-datadoghq_com_desktop.html', 'quantserve_com_mobile.html', 'medium_com_mobile.html', 'geeksforgeeks_org_desktop.html', 'scribd_com_desktop.html', 'aliyuncs_com_mobile.html', 'docker_com_desktop.html', 'xboxlive_com_mobile.html', 'mdpi_com_desktop.html', 'smartthings_com_desktop.html', 'paloaltonetworks_com_desktop.html', 'usps_com_desktop.html', 'mysql_com_desktop.html', 'sberbank_ru_desktop.html', 'abovedomains_com_mobile.html', 'sharethrough_com_mobile.html', 'heytapmobi_com_mobile.html', 'pbs_org_mobile.html', 'meraki_com_mobile.html', 'liftoff_io_desktop.html', 'bestbuy_com_desktop.html', 'delfi_lt_mobile.html', 'wiley_com_mobile.html', 'hugedomains_com_mobile.html', 'fontawesome_com_mobile.html', 'innovid_com_mobile.html', 'app-measurement_com_mobile.html', 't_co_desktop.html', 'taboola_com_mobile.html', 'xbox_com_mobile.html', 'mcafee_com_mobile.html', 'noaa_gov_mobile.html', 'fandom_com_mobile.html', '360_cn_mobile.html', 'sourceforge_net_mobile.html', 'issuu_com_desktop.html', 'creativecdn_com_mobile.html', 'lenta_tech_mobile.html', 'mobile_de_mobile.html', 'xing_com_desktop.html', 'walmart_com_desktop.html', 'independent_co_uk_desktop.html', 'myfritz_net_desktop.html', 'herokuapp_com_mobile.html', 'cloudflare_net_mobile.html', 'rambler_ru_desktop.html', 'docker_com_mobile.html', 'allegro_pl_mobile.html', 'tiktok_com_mobile.html', 'life360_com_mobile.html', 'myshopify_com_desktop.html', 'duckdns_org_mobile.html', 'contextweb_com_mobile.html', 'adform_net_desktop.html', 'ikea_com_desktop.html', 'surveymonkey_com_desktop.html', 'adobe_com_mobile.html', 'academia_edu_mobile.html', 'bbc_co_uk_mobile.html', 'richaudience_com_desktop.html', 'statcounter_com_mobile.html', 'reddit_com_mobile.html', 'cookiedatabase_org_desktop.html', 'apache_org_mobile.html', 'wikipedia_org_desktop.html', 'yahoo_co_jp_mobile.html', 'snapchat_com_mobile.html', 'hp_com_mobile.html', 'plesk_com_mobile.html', 'pikabu_ru_mobile.html', 'coinmarketcap_com_mobile.html', 'ui_com_mobile.html', 'samsung_com_desktop.html', 'rspamd_com_mobile.html', 'blogspot_com_desktop.html', 'service-now_com_mobile.html', 'outbrain_com_mobile.html', 'zoom_us_mobile.html', 'deloitte_com_mobile.html', 'dell_com_desktop.html', 'media_net_desktop.html', 'cdc_gov_desktop.html', 'intercom_io_desktop.html', 'openx_net_desktop.html', 'paypal_com_desktop.html', 'spamhaus_org_desktop.html', 'ibm_com_desktop.html', 'discordapp_com_mobile.html', 'fbsbx_com_desktop.html', 'tumblr_com_mobile.html', 'www_gov_uk_desktop.html', 'fandom_com_desktop.html', 'teamviewer_com_desktop.html', 'sharepoint_com_desktop.html', 'reddit_com_desktop.html', 'creativecdn_com_desktop.html', 'gitlab_com_mobile.html', 'pinimg_com_desktop.html', 'discord_media_mobile.html', 'hindustantimes_com_desktop.html', 'washingtonpost_com_desktop.html', 'steampowered_com_mobile.html', 'w3schools_com_desktop.html', 'zoho_com_desktop.html', 'pubmatic_com_mobile.html', 'telecid_ru_mobile.html', 'dynatrace_com_mobile.html', 'pandora_com_mobile.html', 'myfritz_net_mobile.html', 'umich_edu_mobile.html', 'uber_com_mobile.html', 'verisign_com_desktop.html', 'appsflyer_com_mobile.html', 'ys7_com_desktop.html', 'arcgis_com_desktop.html', 'deepl_com_desktop.html', 'hm_com_mobile.html', 'ezvizlife_com_mobile.html', 'fb_com_mobile.html', 'chess_com_mobile.html', 'nypost_com_desktop.html', 'primevideo_com_desktop.html', 'francetvinfo_fr_desktop.html', 'wp_pl_desktop.html', 'duckduckgo_com_desktop.html', 'mcafee_com_desktop.html', '360yield_com_mobile.html', 'huawei_com_mobile.html', 'list-manage_com_mobile.html', 'otto_de_mobile.html', 'recaptcha_net_mobile.html', 'arubanetworks_com_mobile.html', 'adroll_com_desktop.html', 'si_com_desktop.html', 'bitrix24_ru_desktop.html', 'ecosia_org_mobile.html', 'f5_com_desktop.html', 'elasticbeanstalk_com_mobile.html', 'researchgate_net_mobile.html', 'adrta_com_desktop.html', 'registrar-servers_com_desktop.html', 'msn_com_mobile.html', 'pendo_io_desktop.html', 'aol_com_mobile.html', 'att_com_mobile.html', 'bigo_sg_desktop.html', 't-mobile_com_desktop.html', 'branch_io_mobile.html', 'paloaltonetworks_com_mobile.html', 'freepik_com_desktop.html', 'whitehouse_gov_mobile.html', 'vk_com_desktop.html', 'mikrotik_com_desktop.html', 'cloudflare_com_mobile.html', 'smartadserver_com_mobile.html', 'wildberries_ru_desktop.html', 'iso_org_desktop.html', 'salesforceliveagent_com_desktop.html', 'list-manage_com_desktop.html', 'washington_edu_mobile.html', 'cloud_microsoft_desktop.html', 'marriott_com_desktop.html', 'theatlantic_com_desktop.html', 'virtualearth_net_desktop.html', 'workers_dev_desktop.html', 'issuu_com_mobile.html', 'adsrvr_org_mobile.html', 'disneyplus_com_mobile.html', 'tinyurl_com_desktop.html', 'tradingview_com_desktop.html', 'sohu_com_mobile.html', 'cloudflare_com_desktop.html', 'nih_gov_desktop.html', 'whatsapp_com_desktop.html', 'mlb_com_desktop.html', 'fb_me_desktop.html', 'amazon_de_desktop.html', 'deepintent_com_desktop.html', 'shopeemobile_com_mobile.html', 'pixiv_net_desktop.html', 'naver_com_desktop.html', 'indiatimes_com_mobile.html', 'genius_com_desktop.html', 'pki_goog_desktop.html', 'google_de_desktop.html', 'icloud-content_com_mobile.html', 'instabug_com_desktop.html', 'ecosia_org_desktop.html', 'launchpad_net_desktop.html', 'moe_video_mobile.html', 'debian_org_desktop.html', 'kohls_com_mobile.html', '360safe_com_desktop.html', 'nikkei_com_mobile.html', 'scorecardresearch_com_desktop.html', 'yieldmo_com_mobile.html', 'twitch_tv_desktop.html', 'visualstudio_com_mobile.html', 'ad_gt_mobile.html', 'wikipedia_org_mobile.html', 'wa_me_desktop.html', 'ted_com_desktop.html', 'jotform_com_desktop.html', 'appsflyersdk_com_desktop.html', 'stackoverflow_com_mobile.html', 'pexels_com_desktop.html', 'ebay_com_mobile.html', 'webex_com_mobile.html', 'samsungapps_com_mobile.html', 'homedepot_com_mobile.html', 'bitdefender_com_desktop.html', 'php_net_mobile.html', 'huffpost_com_mobile.html', 'cnn_com_mobile.html', 'eporner_com_mobile.html', 'linkedin_com_desktop.html', 'xhamster_com_mobile.html', '1drv_com_desktop.html', 'qq_com_desktop.html', 'apple_news_mobile.html', 'corriere_it_desktop.html', 'appspot_com_mobile.html', 'avito_ru_desktop.html', 'people_com_mobile.html', 'windows_net_mobile.html', 'chartboost_com_desktop.html', 'dropbox_com_mobile.html', 'dnsv1_com_mobile.html', 'nginx_org_desktop.html', 'chaturbate_com_mobile.html', 'arxiv_org_desktop.html', 'behance_net_desktop.html', 'gitlab_com_desktop.html', 'mediafire_com_mobile.html', 'utorrent_com_desktop.html', 'mts_ru_desktop.html', 'classlink_com_desktop.html', 'lencr_org_mobile.html', 'adobe_io_desktop.html', 'aol_com_desktop.html', 'datadoghq_com_mobile.html', 'adobe_net_desktop.html', 'uol_com_br_mobile.html', 'fb_com_desktop.html', 'ok_ru_mobile.html', 'pornhub_com_desktop.html', 'bigo_sg_mobile.html', 'amazon_es_desktop.html', 'ibm_com_mobile.html', 'deepl_com_mobile.html', 'wikimedia_org_desktop.html', 'adobe_com_desktop.html', 'goodreads_com_mobile.html', 'slack_com_mobile.html', 'teads_tv_mobile.html', 'a-mo_net_mobile.html', 'riotgames_com_mobile.html', 'mob_com_desktop.html', 'google_com_hk_mobile.html', 'vimeo_com_mobile.html', 'debian_org_mobile.html', 'umich_edu_desktop.html', 'repubblica_it_mobile.html', 'cnn_com_desktop.html', 'windows_net_desktop.html', 'amazon-adsystem_com_mobile.html', 'nease_net_mobile.html', 'ozon_ru_desktop.html', 'nflxvideo_net_mobile.html', 'inmobi_com_desktop.html', 'hotmail_com_mobile.html', 'notamedia_ru_mobile.html', 'stripe_com_mobile.html', 'discord_gg_desktop.html', 'intel_com_mobile.html', 'arcgis_com_mobile.html', '2gis_com_mobile.html', 'mixpanel_com_desktop.html', 'va_gov_desktop.html', 'bandcamp_com_mobile.html', 'tinkoff_ru_mobile.html', 'flickr_com_desktop.html', 'ubnt_com_desktop.html', 'dotomi_com_desktop.html', 'columbia_edu_mobile.html', 'amplitude_com_desktop.html', 'dailymotion_com_desktop.html', 'cisco_com_desktop.html', 'amazon-adsystem_com_desktop.html', 'wa_me_mobile.html', 'ietf_org_desktop.html', 'perfectdomain_com_mobile.html', 'mailchi_mp_mobile.html', 'ioam_de_desktop.html', 'heylink_me_desktop.html', 'eventbrite_com_mobile.html', 'zemanta_com_mobile.html', 'unpkg_com_desktop.html', 'rbc_ru_desktop.html', 'nypost_com_mobile.html', 'cloudflare_net_desktop.html', 'xiaomi_net_desktop.html', 'unesco_org_desktop.html', 'globalsign_com_desktop.html', 'jquery_com_mobile.html', 'free_fr_mobile.html', 'people_com_desktop.html', 'googlesyndication_com_mobile.html', 'mobile_de_desktop.html', 'tumblr_com_desktop.html', 'xfinity_com_desktop.html', 'synology_com_desktop.html', 'doubleclick_net_mobile.html', 'npr_org_mobile.html', 'google_co_in_desktop.html', 'speedtest_net_mobile.html', 'icloud-content_com_desktop.html', 'google_es_desktop.html', 't-online_de_mobile.html', 'amazon_fr_mobile.html', 'mikrotik_com_mobile.html', 'xiaomi_com_mobile.html', 'unesco_org_mobile.html', 'redd_it_mobile.html', 'airbnb_com_desktop.html', 'oraclecloud_com_mobile.html', 'cnet_com_desktop.html', 'firefox_com_desktop.html', 'vimeo_com_desktop.html', 'churnzero_net_desktop.html', 'linkedin_com_mobile.html', 'bloomberg_com_mobile.html', 'medium_com_desktop.html', 'mirtesen_ru_mobile.html', 'newsweek_com_desktop.html', 'rt_ru_desktop.html', 'appspot_com_desktop.html', 'dyndns_org_desktop.html', 'goo_gl_mobile.html', 'w3schools_com_mobile.html', '3lift_com_desktop.html', 'stanford_edu_desktop.html', 'sina_com_cn_mobile.html', 'adriver_ru_desktop.html', 'xvideos_com_desktop.html', 'azure_com_desktop.html', 'etsy_com_desktop.html', 'launchpad_net_mobile.html', 'entrust_net_mobile.html', 'alidns_com_mobile.html', 'mirtesen_ru_desktop.html', 'comfortel_pro_desktop.html', 'etsy_com_mobile.html', 'mozilla_org_mobile.html', 'wyzecam_com_mobile.html', 'apple_news_desktop.html', 'netflix_net_desktop.html', 'sonobi_com_desktop.html', 'autodesk_com_mobile.html', 'casalemedia_com_mobile.html', 'forter_com_mobile.html', 'launchdarkly_com_desktop.html', 'blogger_com_desktop.html', 'sophos_com_desktop.html', 'bbc_com_desktop.html', 'branch_io_desktop.html', 'columbia_edu_desktop.html', 'tripadvisor_com_desktop.html', 'creativecommons_org_desktop.html', 'theguardian_com_mobile.html', 'amazon_co_jp_desktop.html', 'hostgator_com_mobile.html', 'virtualearth_net_mobile.html', 'stackadapt_com_desktop.html', 'bitdefender_com_mobile.html', 'android_com_mobile.html', 'berkeley_edu_mobile.html', 'nih_gov_mobile.html', 'xbox_com_desktop.html', 'facebook_com_desktop.html', 'onlyfans_com_desktop.html', 'hbr_org_mobile.html', 'weforum_org_desktop.html', 'whatsapp_net_desktop.html', 'ampproject_org_desktop.html', 'googletagmanager_com_mobile.html', 'rackspace_com_desktop.html', 'wikimedia_org_mobile.html', 'github_com_desktop.html', 'mongodb_com_desktop.html', 'prnewswire_com_mobile.html', 'app-measurement_com_desktop.html', 'openai_com_desktop.html', 'hugedomains_com_desktop.html', 'trustpilot_com_desktop.html', '163_com_mobile.html', 'amazonaws_com_desktop.html', 'spamhaus_org_mobile.html', 'infonline_de_desktop.html', 'dns_google_mobile.html', 'zendesk_com_desktop.html', 'tapad_com_mobile.html', 'discordapp_com_desktop.html', 'warnerbros_com_desktop.html', 'postrelease_com_desktop.html', 'indeed_com_desktop.html', 'latimes_com_mobile.html', 'office_com_mobile.html', 'disqus_com_desktop.html', 'sciencedirect_com_mobile.html', 'dailymail_co_uk_mobile.html', 'free_fr_desktop.html', 'innovid_com_desktop.html', 'salesforce_com_mobile.html', 'shutterstock_com_mobile.html', 'office365_com_desktop.html', 'ntp_org_desktop.html', 'pubmatic_com_desktop.html', 'harvard_edu_mobile.html', 'ngenix_net_desktop.html', 'time_com_desktop.html', 'fiverr_com_desktop.html', 'twitch_tv_mobile.html', 'wildberries_ru_mobile.html', 'shopify_com_desktop.html', 'trbcdn_net_desktop.html', 'pandora_com_desktop.html', 'chaturbate_com_desktop.html', 'one_one_mobile.html', 'amazonvideo_com_mobile.html', 'wix_com_desktop.html', 'flashtalking_com_mobile.html', 'who_int_desktop.html', 'bandcamp_com_desktop.html', 'elpais_com_desktop.html', 'mailchi_mp_desktop.html', 'allaboutcookies_org_mobile.html', 'xhamster_com_desktop.html', 'pendo_io_mobile.html', 'allegro_pl_desktop.html', 'indexww_com_desktop.html', 'slack_com_desktop.html', 'online_net_mobile.html', 'qq_com_mobile.html', 'addtoany_com_mobile.html', 'elmundo_es_desktop.html', 'shalltry_com_mobile.html', 'taboola_com_desktop.html', 'ebay_com_desktop.html', 'xfinity_com_mobile.html', 'cdnvideo_ru_mobile.html', 'go_com_desktop.html', 'intuit_com_desktop.html', 'jotform_com_mobile.html', 'maricopa_gov_mobile.html', 'corriere_it_mobile.html', 'healthline_com_desktop.html', 'digitalocean_com_desktop.html', 'inner-active_mobi_desktop.html', 'adobe_io_mobile.html', 'gandi_net_mobile.html', 'roku_com_mobile.html', 'pexels_com_mobile.html', '360yield_com_desktop.html', 'box_com_desktop.html', 'nic_ru_mobile.html', 'washingtonpost_com_mobile.html', 'qualtrics_com_desktop.html', 'braze_com_desktop.html', 'rbc_ru_mobile.html', 'health_mil_desktop.html', 'cloudns_net_mobile.html', 'mi_com_desktop.html', 'taobao_com_desktop.html', 'kaspersky_com_desktop.html', 'lefigaro_fr_mobile.html', 'dropbox_com_desktop.html', 'atlassian_com_desktop.html', 'cnbc_com_desktop.html', 'googletagmanager_com_desktop.html', 'braze_com_mobile.html', 'openstreetmap_org_desktop.html', 'googlesyndication_com_desktop.html', 'behance_net_mobile.html', 'amazon_com_desktop.html', 'ya_ru_mobile.html', 'walmart_com_mobile.html', 'chartbeat_net_mobile.html', 'deviantart_com_mobile.html', 'mayoclinic_org_desktop.html', 'bild_de_desktop.html', 'marriott_com_mobile.html', 'tandfonline_com_desktop.html', 'brave_com_mobile.html', 'onet_pl_desktop.html', 'vkontakte_ru_mobile.html', 'ya_ru_desktop.html', 'ryanair_com_mobile.html', 'office_com_desktop.html', 'mzstatic_com_desktop.html', 'nationalgeographic_com_mobile.html', 'salesforceliveagent_com_mobile.html', 'usnews_com_mobile.html', 'newrelic_com_desktop.html', 'xvideos_com_mobile.html', 'webex_com_desktop.html', 'erome_com_mobile.html', 'betweendigital_com_desktop.html', 'npr_org_desktop.html', 'amplitude_com_mobile.html', 'x_com_mobile.html', 'amazon_ca_mobile.html', 'anydesk_com_desktop.html', 'xserver_jp_mobile.html', 'trendmicro_com_mobile.html', 'amazontrust_com_mobile.html', 'gosuslugi_ru_desktop.html', 'wordpress_org_desktop.html', 'gnu_org_mobile.html', 'google_com_hk_desktop.html', 'caixa_gov_br_desktop.html', 'giphy_com_mobile.html', 'trendmicro_com_desktop.html', 'vungle_com_desktop.html', 'churnzero_net_mobile.html', 'nest_com_desktop.html', 'rt_ru_mobile.html', 'bild_de_mobile.html', 'b-cdn_net_mobile.html', 'yximgs_com_desktop.html', 'browser-intake-datadoghq_com_mobile.html', 'berkeley_edu_desktop.html', 'squarespace_com_mobile.html', 'kargo_com_mobile.html', 'miui_com_mobile.html', 'genius_com_mobile.html', 'tiktokv_com_mobile.html', 'lencr_org_desktop.html', 'youtu_be_desktop.html', 'sharethis_com_desktop.html', 'asu_edu_desktop.html', 'weather_com_mobile.html', 'google_ca_desktop.html', 'wordpress_com_desktop.html', 'bilibili_com_mobile.html', 'conviva_com_mobile.html', 'aliexpress_com_mobile.html', 'canonical_com_desktop.html', 'hindustantimes_com_mobile.html', 'riotgames_com_desktop.html', 'ebay_co_uk_desktop.html', 'sapo_pt_mobile.html', 'adrta_com_mobile.html', '360safe_com_mobile.html', 'comfortel_pro_mobile.html', 'chatgpt_com_mobile.html', 'ups_com_mobile.html', 'soundcloud_com_desktop.html', 'grammarly_com_mobile.html', 'doi_org_mobile.html', 'elmundo_es_mobile.html', 'amazon_com_au_mobile.html', 'merriam-webster_com_mobile.html', 'bing_com_desktop.html', 'pbs_org_desktop.html', 'character_ai_mobile.html', 'theverge_com_mobile.html', 'google_pl_mobile.html', 'wsj_com_mobile.html', 'id5-sync_com_mobile.html', 'tokopedia_com_mobile.html', 'archive_org_mobile.html', 'quickconnect_to_mobile.html', 'go_com_mobile.html', 'discord_media_desktop.html', 'msn_com_desktop.html', 'nvidia_com_mobile.html', 'dnsv1_com_desktop.html', 'change_org_mobile.html', 'youtube-nocookie_com_desktop.html', 'id5-sync_com_desktop.html', 'usatoday_com_mobile.html', 'princeton_edu_mobile.html', 'amazon_com_br_desktop.html', 'playstation_com_desktop.html', 'roblox_com_mobile.html', 'cbsnews_com_desktop.html', 'mgid_com_desktop.html', 'ivi_ru_mobile.html', 'taobao_com_mobile.html', 'change_org_desktop.html', 'forms_gle_desktop.html', 'mozilla_com_mobile.html', 'userapi_com_desktop.html', 'wordpress_com_mobile.html', 'drom_ru_mobile.html', 'latimes_com_desktop.html', 'cloud_microsoft_mobile.html', 'digitalocean_com_mobile.html', 'disneyplus_com_desktop.html', 'mercadolibre_com_ar_mobile.html', 'adsafeprotected_com_mobile.html', 'youronlinechoices_com_mobile.html', 'nytimes_com_desktop.html', 't_co_mobile.html', 'macys_com_desktop.html', 'xiaomi_net_mobile.html', 'app-analytics-services_com_desktop.html', 'imdb_com_mobile.html', 'loc_gov_desktop.html', 'perfectdomain_com_desktop.html', 'rakuten_co_jp_desktop.html', 'firetvcaptiveportal_com_desktop.html', 'autodesk_com_desktop.html', 'microsoft_com_mobile.html', 'paypal_com_mobile.html', 'cornell_edu_mobile.html', 'wiley_com_desktop.html', 'trbcdn_net_mobile.html', 'outlook_com_mobile.html', 'tinyurl_com_mobile.html', 'firefox_com_mobile.html', 'quizlet_com_desktop.html', 'fda_gov_desktop.html', 'networkadvertising_org_mobile.html', 'live_com_mobile.html', 'googleadservices_com_desktop.html', 'theatlantic_com_mobile.html', 'checkpoint_com_desktop.html', 'example_com_mobile.html', 'ted_com_mobile.html', 'appsflyersdk_com_mobile.html', 'comcast_com_desktop.html', 'betweendigital_com_mobile.html', 'yandex_net_desktop.html', 'unsplash_com_mobile.html', 'biblegateway_com_desktop.html', 'indeed_com_mobile.html', 'patreon_com_mobile.html', 'princeton_edu_desktop.html', 'myspace_com_desktop.html', 'deviantart_com_desktop.html', 'theconversation_com_mobile.html', 'ubnt_com_mobile.html', 'registrar-servers_com_mobile.html', 'mongodb_com_mobile.html', 'hostgator_com_desktop.html', 'google_cn_mobile.html', 'live_com_desktop.html', 'ameblo_jp_mobile.html', 'nationalgeographic_com_desktop.html', 'ups_com_desktop.html', 'baidu_com_mobile.html', 'epicgames_com_desktop.html', 'appcenter_ms_mobile.html', 'pinterest_com_desktop.html', 'adtrafficquality_google_mobile.html', 'salesforce_com_desktop.html', 'onetrust_com_desktop.html', 'alphonso_tv_desktop.html', 'yahoo_com_desktop.html', 'aniview_com_desktop.html', 'soundcloud_com_mobile.html', 'okta_com_desktop.html', 'ring_com_mobile.html', 'cookielaw_org_desktop.html', 'apnews_com_desktop.html', 'avast_com_mobile.html', 'pccc_com_desktop.html', 'nginx_org_mobile.html', 'meraki_com_desktop.html', 'kontur_ru_desktop.html', 'w3_org_mobile.html', 'harvard_edu_desktop.html', 'bankofamerica_com_mobile.html', 'chartbeat_net_desktop.html', 'goodreads_com_desktop.html', 'wired_com_mobile.html', 'b-cdn_net_desktop.html', 'speedtest_net_desktop.html', 'lijit_com_mobile.html', 'google_com_mx_desktop.html', 'caixa_gov_br_mobile.html', 'academia_edu_desktop.html', 'grammarly_com_desktop.html', 'linktr_ee_desktop.html', 'onetrust_com_mobile.html', 'yahoo_co_jp_desktop.html', 'crashlytics_com_desktop.html', 'whatsapp_com_mobile.html', 'yximgs_com_mobile.html', 'jquery_com_desktop.html', 'buzzfeed_com_desktop.html', 'samsung_com_mobile.html', 'smartadserver_com_desktop.html', 'netease_com_mobile.html', 'klaviyo_com_mobile.html', 'amazon_ca_desktop.html', 'tiktokv_com_desktop.html', 'visualstudio_com_desktop.html', 'google_de_mobile.html', 'interia_pl_mobile.html', 'anydesk_com_mobile.html', 'ft_com_desktop.html', 'netgear_com_desktop.html', 'online_net_desktop.html', 'google_it_mobile.html', 'viber_com_desktop.html', 'onlinepbx_ru_mobile.html', 'amzn_to_mobile.html', 'macys_com_mobile.html', 'youtube_com_mobile.html', 'upwork_com_desktop.html', 'gstatic_com_mobile.html', 'cloudflareinsights_com_desktop.html', 'networkadvertising_org_desktop.html', 'tds_net_mobile.html', 'nic_ru_desktop.html', 'wired_com_desktop.html', 'googleapis_com_mobile.html', 'cookielaw_org_mobile.html', 'imgur_com_desktop.html', 'gmail_com_mobile.html', 'fedex_com_mobile.html', 'newsweek_com_mobile.html', 'googlevideo_com_desktop.html', 'mediafire_com_desktop.html', 'gumgum_com_mobile.html', 'xnxx_com_mobile.html', 'ikea_com_mobile.html', 'utorrent_com_mobile.html', 'calendly_com_mobile.html', 'shalltry_com_desktop.html', 'okcdn_ru_mobile.html', 'cdnvideo_ru_desktop.html', 'mzstatic_com_mobile.html', 'pinimg_com_mobile.html', 'instabug_com_mobile.html', 'vmware_com_mobile.html', 'mts_ru_mobile.html', 'sberbank_ru_mobile.html', 'att_com_desktop.html', 'mega_co_nz_mobile.html', '1drv_com_mobile.html', 'netease_com_desktop.html', 'gmail_com_desktop.html', 'ad_gt_desktop.html', 'ea_com_desktop.html', 'inner-active_mobi_mobile.html', 'gamepass_com_desktop.html', 'kaspi_kz_desktop.html', 'gstatic_com_desktop.html', 'wordpress_org_mobile.html', 'bidswitch_net_mobile.html', 'klaviyo_com_desktop.html', 'att_net_mobile.html', 'algolia_net_mobile.html', 'gravatar_com_desktop.html', 'dailymotion_com_mobile.html', 'temu_com_mobile.html', 'cpanel_net_mobile.html', 'bankofamerica_com_desktop.html', 'typeform_com_desktop.html', 'britannica_com_mobile.html', 'economist_com_mobile.html', 'ys7_com_mobile.html', 'repubblica_it_desktop.html', 'nike_com_desktop.html', 'statcounter_com_desktop.html', 'atlassian_com_mobile.html', 'godaddy_com_mobile.html', 'un_org_mobile.html', 'sharethis_com_mobile.html', 'health_mil_mobile.html', 'clarity_ms_desktop.html', 'supercell_com_desktop.html', 'epa_gov_mobile.html', 'pornhub_com_mobile.html', 'hilton_com_mobile.html', 'pixiv_net_mobile.html', 'alidns_com_desktop.html', 'themeforest_net_mobile.html', 'stripe_com_desktop.html', 'nvidia_com_desktop.html', 'news_com_au_desktop.html', 'fast_com_mobile.html', 'airbnb_com_mobile.html', 'ancestry_com_desktop.html', 'okta_com_mobile.html', 'bit_ly_desktop.html', 'bootstrapcdn_com_desktop.html', 'umeng_com_mobile.html', 'bbc_co_uk_desktop.html', 'character_ai_desktop.html', 'netflix_com_desktop.html', 'unity3d_com_desktop.html', 'rackspace_com_mobile.html', 'adjust_com_desktop.html', 'agoda_com_desktop.html', 'myspace_com_mobile.html', 'daum_net_desktop.html', 'upwork_com_mobile.html', '2gis_com_desktop.html', 'aliyun_com_mobile.html', 'force_com_desktop.html', 'snapchat_com_desktop.html', 't_me_mobile.html', 'openstreetmap_org_mobile.html', 'washington_edu_desktop.html', 'googleblog_com_desktop.html', 'blogspot_com_mobile.html', 'iso_org_mobile.html', 'applovin_com_desktop.html', 'skyhigh_cloud_mobile.html', 'mercadolibre_com_ar_desktop.html', 'github_io_desktop.html', 'telekom_de_mobile.html', 'youtu_be_mobile.html', 'businessinsider_com_mobile.html', 'dzen_ru_desktop.html', 'entrust_net_desktop.html', '1c_ru_mobile.html', 'otto_de_desktop.html', 'uber_com_desktop.html', 'netangels_ru_desktop.html', 'zillow_com_mobile.html', 'tripadvisor_com_mobile.html', 'moe_video_desktop.html', 'tandfonline_com_mobile.html', 'github_io_mobile.html', 'wattpad_com_desktop.html', 'doubleverify_com_mobile.html', 'amazon_de_mobile.html', 'istockphoto_com_desktop.html', 'discogs_com_mobile.html', 'ryanair_com_desktop.html', 'deepintent_com_mobile.html', '360_cn_desktop.html', 'scorecardresearch_com_mobile.html', 'amazon_fr_desktop.html', 'attn_tv_mobile.html', 'huffingtonpost_com_desktop.html', 'qualtrics_com_mobile.html', 'slideshare_net_desktop.html', 'unrulymedia_com_mobile.html', 'outbrain_com_desktop.html', 'dns_google_desktop.html', 'conviva_com_desktop.html', 'sciencedirect_com_desktop.html', 'dribbble_com_mobile.html', 'state_gov_mobile.html', 'consultant_ru_mobile.html', 'oracle_com_mobile.html', 't-mobile_com_mobile.html', 'stanford_edu_mobile.html', 'fbcdn_net_desktop.html', 'target_com_desktop.html', 'doubleverify_com_desktop.html', 'synology_com_mobile.html', 'chess_com_desktop.html', 'mercadolivre_com_br_mobile.html', 'mit_edu_mobile.html', 'nist_gov_mobile.html', 'nbcnews_com_mobile.html', 'researchgate_net_desktop.html', 'crpt_ru_mobile.html', 'theverge_com_desktop.html', 'xnxx_com_desktop.html', 'digicert_com_mobile.html', 'miwifi_com_mobile.html', 'roblox_com_desktop.html', 'hp_com_desktop.html', 'eventbrite_com_desktop.html', 'onlyfans_com_mobile.html', 'youku_com_mobile.html', 'amazon_co_uk_mobile.html', 'googleblog_com_mobile.html', 'vk_com_mobile.html', 'service_gov_uk_desktop.html', 'godaddy_com_desktop.html', 'mob_com_mobile.html', 'ca_gov_desktop.html', 'shopee_co_id_mobile.html', 'adjust_com_mobile.html', 'nginx_com_desktop.html', 'intentiq_com_mobile.html', 'quora_com_mobile.html', 'mixpanel_com_mobile.html', 'addtoany_com_desktop.html', 'news_com_au_mobile.html', 'dzen_ru_mobile.html', 'dynatrace_com_desktop.html', 'heytapmobi_com_desktop.html', 'unpkg_com_mobile.html', 'europa_eu_mobile.html', 'appcenter_ms_desktop.html', 'onetag-sys_com_desktop.html', 'shein_com_desktop.html', 'techcrunch_com_desktop.html', 'yandex_ru_desktop.html', 'canva_com_mobile.html', 'consultant_ru_desktop.html', 'recaptcha_net_desktop.html', 'investopedia_com_desktop.html', 'spotify_com_desktop.html', 'stackadapt_com_mobile.html', 'aboutads_info_desktop.html', 'bit_ly_mobile.html', 'ring_com_desktop.html', 'fontawesome_com_desktop.html', 'google_com_mobile.html', 'fbcdn_net_mobile.html', 'linktr_ee_mobile.html', 'hubspot_com_desktop.html', 'wikihow_com_desktop.html', 'google_pl_desktop.html', 'nature_com_mobile.html', 'lemonde_fr_desktop.html', 'amazon_co_uk_desktop.html', 'duckduckgo_com_mobile.html', 'britannica_com_desktop.html', 'google_co_in_mobile.html', 'crashlytics_com_mobile.html', 'weibo_com_desktop.html', 'cornell_edu_desktop.html', 'onesignal_com_mobile.html', 'twitter_com_desktop.html', 'substack_com_mobile.html', 'liftoff_io_mobile.html', 'mckinsey_com_mobile.html', 'espn_com_mobile.html', 'vungle_com_mobile.html', 'nasa_gov_mobile.html', 'cloudflare-dns_com_desktop.html', 'indexww_com_mobile.html', 'epicgames_com_mobile.html', 'sharepoint_com_mobile.html', 'europa_eu_desktop.html', 't-online_de_desktop.html', 'wp_com_mobile.html', 'rubiconproject_com_mobile.html', 'zendesk_com_mobile.html', 'pccc_com_mobile.html', 'amzn_to_desktop.html', 'gandi_net_desktop.html', 'adroll_com_mobile.html', 'fastly_net_mobile.html', 'lowes_com_desktop.html', 'intentiq_com_desktop.html', 'substack_com_desktop.html', 'name_com_mobile.html', 'www_gov_br_mobile.html', 'prnewswire_com_desktop.html', 'hubspot_com_mobile.html', 'windows_com_mobile.html', 'vkuseraudio_net_desktop.html', '166_com_mobile.html', 'ieee_org_desktop.html', 'wsj_com_desktop.html', 'nasa_gov_desktop.html', 'rapid7_com_mobile.html', 'statista_com_mobile.html', 'mozilla_com_desktop.html', 'mediatek_com_mobile.html', 'telegraph_co_uk_desktop.html', 'globalsign_com_mobile.html', 'noaa_gov_desktop.html', 'spotify_com_mobile.html', 'skype_com_desktop.html', '33across_com_desktop.html', 'lenta_com_mobile.html', 'pixabay_com_mobile.html', '163_com_desktop.html', 'google_fr_desktop.html', 'cisco_com_mobile.html', 'telegram_org_desktop.html', 'tplinkcloud_com_mobile.html', 'weebly_com_mobile.html', 'statista_com_desktop.html', 'whatsapp_net_mobile.html', 'tradingview_com_mobile.html', 'bitrix24_ru_mobile.html', 'coinmarketcap_com_desktop.html', 'mozilla_org_desktop.html', 'cloudinary_com_mobile.html', 'vkontakte_ru_desktop.html', 'redhat_com_mobile.html', 'ngenix_net_mobile.html', 'telegraph_co_uk_mobile.html', 'alibaba_com_mobile.html', 'cdc_gov_mobile.html', 'eporner_com_desktop.html', 'doi_org_desktop.html', 'mayoclinic_org_mobile.html', 'apple_com_mobile.html', 'imgur_com_mobile.html', 'nflxvideo_net_desktop.html', 'github_com_mobile.html', 'netflix_com_mobile.html', 'reg_ru_mobile.html', 'ancestry_com_mobile.html', 'optimizely_com_desktop.html', 'binance_com_mobile.html', 'bestbuy_com_mobile.html', 'service-now_com_desktop.html', 'sapo_pt_desktop.html', 'delfi_lt_desktop.html', 'amazontrust_com_desktop.html', 'nease_net_desktop.html', 'one_one_desktop.html', 'amazon_it_desktop.html', 'avito_ru_mobile.html', 'cambridge_org_mobile.html', 'yandex_net_mobile.html', 'kickstarter_com_desktop.html', 'vivoglobal_com_mobile.html', 'intuit_com_mobile.html', 'onlinepbx_ru_desktop.html', 'booking_com_desktop.html', 'steampowered_com_desktop.html', 'wikihow_com_mobile.html', 'sentry_io_mobile.html', 'booking_com_mobile.html', 'sagepub_com_mobile.html', 'steamcommunity_com_mobile.html', 'duckdns_org_desktop.html', 'www_gov_uk_mobile.html', 'appsflyer_com_desktop.html', 'markmonitor_com_mobile.html', 'google_co_jp_mobile.html', 'pixabay_com_desktop.html', 'onesignal_com_desktop.html', 'chartboost_com_mobile.html', 'dailymail_co_uk_desktop.html', 'interia_pl_desktop.html', 'service_gov_uk_mobile.html', 'sophos_com_mobile.html', 'newrelic_com_mobile.html', 'netangels_ru_mobile.html', 'asu_edu_mobile.html', 'whitehouse_gov_desktop.html', 'fiverr_com_mobile.html', 'geeksforgeeks_org_mobile.html', 'android_com_desktop.html', 'clarity_ms_mobile.html', 'dnsmadeeasy_com_mobile.html', 'ezvizlife_com_desktop.html', 'classlink_com_mobile.html', 'apache_org_desktop.html', 'telegram_org_mobile.html', 'springer_com_mobile.html', 'lenovo_com_desktop.html', 'temu_com_desktop.html', 'myshopify_com_mobile.html', 'abovedomains_com_desktop.html', 'heylink_me_mobile.html', 'pinterest_com_mobile.html', 'sentry_io_desktop.html', 'buzzfeed_com_mobile.html', 'amazonvideo_com_desktop.html', 'google_com_br_mobile.html', 'openx_net_mobile.html', 'shutterstock_com_desktop.html', 'youku_com_desktop.html', 'tplinkcloud_com_desktop.html', 'discogs_com_desktop.html', 'vmware_com_desktop.html', 'mail_ru_mobile.html', 'baidu_com_desktop.html', 'imgsmail_ru_desktop.html', 'googleadservices_com_mobile.html', 'wb_ru_mobile.html', 'mi_com_mobile.html', 'gamepass_com_mobile.html', 'zillow_com_desktop.html', 'apple_com_desktop.html', 'stbid_ru_desktop.html', 'bugsnag_com_mobile.html', 'shopee_com_br_desktop.html', 'pikabu_ru_desktop.html', 'wb_ru_desktop.html', 'quora_com_desktop.html', 'kargo_com_desktop.html', 'pages_dev_mobile.html', 'redd_it_desktop.html', 'sohu_com_desktop.html', 'cnet_com_mobile.html', 'ebay_de_desktop.html', 'usda_gov_desktop.html', 'cnbc_com_mobile.html', 'ubuntu_com_desktop.html', 'kaspersky_com_mobile.html', 'biblegateway_com_mobile.html', 'cambridge_org_desktop.html', 'supercell_com_mobile.html', 'naver_com_mobile.html', 'amazon_co_jp_mobile.html', 'loc_gov_mobile.html', 'businesswire_com_mobile.html', 'homedepot_com_desktop.html', 'adform_net_mobile.html', 'wattpad_com_mobile.html', 'tiktok_com_desktop.html', 'icloud_com_mobile.html', 'notamedia_ru_desktop.html', 'wp_pl_mobile.html', 'yandex_ru_mobile.html', 'mailchimp_com_desktop.html', 'googleusercontent_com_desktop.html', 'livejournal_com_mobile.html', 'mdpi_com_mobile.html', 'canva_com_desktop.html', 'oracle_com_desktop.html', 'indiatimes_com_desktop.html', 'pvp_net_desktop.html', 'youtube-nocookie_com_mobile.html', 'ft_com_mobile.html', 'comcast_net_desktop.html', 'huawei_com_desktop.html', 'optimizely_com_mobile.html', 'va_gov_mobile.html', 'sharethrough_com_desktop.html', 'google_com_tr_mobile.html', 'hotjar_com_desktop.html', 'roku_com_desktop.html', 'investopedia_com_mobile.html', 'teamviewer_com_mobile.html', 'lijit_com_desktop.html', 'primevideo_com_mobile.html', 'kontur_ru_mobile.html', 'mail_ru_desktop.html', 'amazon_com_mobile.html', 'weibo_com_mobile.html', 'huffingtonpost_com_mobile.html', 'yandex_com_mobile.html', 'techcrunch_com_mobile.html', 'teads_tv_desktop.html', 'uol_com_br_desktop.html', 'foxnews_com_desktop.html', 'businessinsider_com_desktop.html', 'fastly_net_desktop.html', 'ok_ru_desktop.html', 'fast_com_desktop.html', 'me_com_mobile.html', 'ntp_org_mobile.html', 'slideshare_net_mobile.html', 'zoho_com_mobile.html', 'instructure_com_desktop.html', 'cpanel_net_desktop.html', 'who_int_mobile.html', 'tp-link_com_desktop.html', 'bidswitch_net_desktop.html', 'playstation_com_mobile.html', 'googleapis_com_desktop.html', 'healthline_com_mobile.html', 'realtor_com_desktop.html', 'dell_com_mobile.html', 'disqus_com_mobile.html', 'un_org_desktop.html', 'warnerbros_com_mobile.html', 'oraclecloud_com_desktop.html', 'criteo_com_mobile.html', 'forbes_com_desktop.html', 'umeng_com_desktop.html', 'youronlinechoices_com_desktop.html', 'calendly_com_desktop.html', 'yandex_com_desktop.html', 'gnu_org_desktop.html', 'windows_com_desktop.html', 'openai_com_mobile.html', 'aliyuncs_com_desktop.html', 'google_co_uk_mobile.html', 'forbes_com_mobile.html', 'box_com_mobile.html', 'office365_com_mobile.html', 'timeweb_ru_mobile.html', 'name_com_desktop.html', 'flickr_com_mobile.html', 'nytimes_com_mobile.html', 'workers_dev_mobile.html', 'ca_gov_mobile.html', 'worldbank_org_desktop.html', 'rubiconproject_com_desktop.html', 'withgoogle_com_mobile.html']\n"
     ]
    }
   ],
   "source": [
    "os.listdir(\"dataset\")\n",
    "names = os.listdir(\"dataset/html\")\n",
    "print(names)\n"
   ]
  },
  {
   "cell_type": "code",
   "execution_count": 26,
   "metadata": {},
   "outputs": [],
   "source": [
    "import shutil\n",
    "import os\n",
    "\n",
    "def reorganize_dataset():\n",
    "    \"\"\"Rename files and copy them into a specific code folder.\\n\n",
    "        Tree should look like this:\\n\n",
    "        dataset\n",
    "        ├── code\n",
    "        │   ├── desktop\n",
    "        │   │   ├── css\n",
    "        │   │   └── html\n",
    "        │   └── mobile\n",
    "        │       ├── css\n",
    "        │       └── html\n",
    "        └── screens\n",
    "            ├── desktop\n",
    "            └── mobile\n",
    "    \"\"\"\n",
    "\n",
    "    target_dirs = {\n",
    "        \"desktop_css\": os.path.join(\"dataset\", \"code\", \"desktop\", \"css\"),\n",
    "        \"desktop_html\": os.path.join(\"dataset\", \"code\", \"desktop\", \"html\"),\n",
    "        \"mobile_css\": os.path.join(\"dataset\", \"code\", \"mobile\", \"css\"),\n",
    "        \"mobile_html\": os.path.join(\"dataset\", \"code\", \"mobile\", \"html\"),\n",
    "    }\n",
    "\n",
    "    # Create the target directories if they don't exist\n",
    "    for path in target_dirs.values():\n",
    "        os.makedirs(path, exist_ok=True)\n",
    "\n",
    "    # List of file names to be processed\n",
    "    html_names = os.listdir(\"dataset/html\")\n",
    "\n",
    "    # Copy and rename files\n",
    "    for name in html_names:\n",
    "        if \"_desktop.html\" in name:\n",
    "            new_name = name.replace(\"_desktop.html\", \".html\")\n",
    "            shutil.copyfile(\n",
    "                os.path.join(\"dataset\", \"html\", name),\n",
    "                os.path.join(target_dirs[\"desktop_html\"], new_name),\n",
    "            )\n",
    "        elif \"_mobile.html\" in name:\n",
    "            new_name = name.replace(\"_mobile.html\", \".html\")\n",
    "            shutil.copyfile(\n",
    "                os.path.join(\"dataset\", \"html\", name),\n",
    "                os.path.join(target_dirs[\"mobile_html\"], new_name),\n",
    "            )\n",
    "\n",
    "    css_names = os.listdir(\"dataset/css\")\n",
    "\n",
    "    for name in css_names:\n",
    "        if \"_desktop.css\" in name:\n",
    "            new_name = name.replace(\"_desktop.css\", \".css\")\n",
    "            shutil.copyfile(\n",
    "                os.path.join(\"dataset\", \"css\", name),\n",
    "                os.path.join(target_dirs[\"desktop_css\"], new_name),\n",
    "            )\n",
    "        elif \"_mobile.css\" in name:\n",
    "            new_name = name.replace(\"_mobile.css\", \".css\")\n",
    "            shutil.copyfile(\n",
    "                os.path.join(\"dataset\", \"css\", name),\n",
    "                os.path.join(target_dirs[\"mobile_css\"], new_name),\n",
    "            )\n",
    "\n",
    "    # Put mobile and desktop image folders inside the screens folder\n",
    "\n",
    "    os.makedirs(os.path.join(\"dataset\", \"screens\"), exist_ok=True)\n",
    "    shutil.move(os.path.join(\"dataset\", \"desktop\"), os.path.join(\"dataset\", \"screens\"))\n",
    "    shutil.move(os.path.join(\"dataset\", \"mobile\"), os.path.join(\"dataset\", \"screens\"))"
   ]
  },
  {
   "cell_type": "markdown",
   "metadata": {},
   "source": [
    "### (Un)Comment this if you don't want to reorganize the dataset"
   ]
  },
  {
   "cell_type": "code",
   "execution_count": 27,
   "metadata": {},
   "outputs": [],
   "source": [
    "# (Un)Comment this if you don't want to reorganize the dataset\n",
    "\n",
    "# reorganize_dataset()"
   ]
  },
  {
   "cell_type": "code",
   "execution_count": 28,
   "metadata": {},
   "outputs": [],
   "source": [
    "def format_code_answer(site_name):\n",
    "    with open(f\"dataset/code/mobile/html/{site_name}.html\", \"r\") as f:\n",
    "        html = f.read()\n",
    "    with open(f\"dataset/code/mobile/css/{site_name}.css\", \"r\") as f:\n",
    "        css = f.read()\n",
    "    return f\"HTML:\\n{html}\\n\\nCSS:\\n{css}\""
   ]
  },
  {
   "cell_type": "code",
   "execution_count": 30,
   "metadata": {},
   "outputs": [],
   "source": [
    "def generate_dataset_json(output_folder, site_names):\n",
    "    \"\"\"Formats and saves the dataset as a JSON file.\n",
    "\n",
    "    Args:\n",
    "        output_folder (str): name of the folder to save the JSON file in\n",
    "        site_names (list[str]): list of site names to generate JSON data for\n",
    "    \"\"\"\n",
    "    # Initialize list to hold all JSON data\n",
    "    json_data_list = []\n",
    "\n",
    "    for name in site_names:\n",
    "        if (name+'.html') not in os.listdir(\"dataset/code/mobile/html\"):\n",
    "            print(f'Missing {name}.html in dataset/code/mobile/html')\n",
    "        if (name+'.css') not in os.listdir(\"dataset/code/mobile/css\"):\n",
    "            print(f'Missing {name}.css in dataset/code/mobile/css')\n",
    "            continue\n",
    "\n",
    "        formatted_answer = format_code_answer(name)\n",
    "\n",
    "        # Structure for LLaVA JSON\n",
    "        json_data = {\n",
    "            \"id\": name,\n",
    "            \"image\": f\"{name}.jpg\",\n",
    "            \"conversations\": [\n",
    "                {\n",
    "                    \"from\": \"human\",\n",
    "                    \"value\": \"You're an expert in web development. From the given desktop screenshot, please generate the HTML and CSS code for the mobile version of the website.\"\n",
    "                },\n",
    "                {\n",
    "                    \"from\": \"gpt\",\n",
    "                    \"value\": formatted_answer\n",
    "                }\n",
    "            ]\n",
    "        }\n",
    "\n",
    "        # Append to list\n",
    "        json_data_list.append(json_data)\n",
    "\n",
    "    print(len(json_data_list))\n",
    "\n",
    "    # Save the JSON data list to a file\n",
    "    json_output_path = os.path.join(output_folder, 'dataset.json')\n",
    "    with open(json_output_path, 'w') as json_file:\n",
    "        json.dump(json_data_list, json_file, indent=4)\n"
   ]
  },
  {
   "cell_type": "code",
   "execution_count": 31,
   "metadata": {},
   "outputs": [
    {
     "name": "stdout",
     "output_type": "stream",
     "text": [
      "['delfi_lt', 'entrust_net', 'businesswire_com', 'synology_com', 'doubleverify_com']\n",
      "Missing edgecdn_ru.html in dataset/code/mobile/html\n",
      "Missing edgecdn_ru.css in dataset/code/mobile/css\n",
      "Missing gcdn_co.html in dataset/code/mobile/html\n",
      "Missing gcdn_co.css in dataset/code/mobile/css\n",
      "Missing 360safe_com.css in dataset/code/mobile/css\n",
      "749\n"
     ]
    }
   ],
   "source": [
    "site_names = os.listdir(\"dataset/screens/desktop\")\n",
    "site_names = [n.replace('.png', '') for n in site_names]\n",
    "print(site_names[:5])\n",
    "\n",
    "generate_dataset_json(\"dataset\", site_names)"
   ]
  },
  {
   "cell_type": "markdown",
   "metadata": {},
   "source": [
    "### S'inspirer de la suite /!\\ pas fini ! /!\\ "
   ]
  },
  {
   "cell_type": "code",
   "execution_count": null,
   "metadata": {},
   "outputs": [],
   "source": [
    "def process_and_save(dataset, output_folder, subset_name):\n",
    "    # Define image subfolder within output folder\n",
    "    subset_folder = os.path.join(output_folder, subset_name)\n",
    "    image_subfolder = os.path.join(output_folder, 'images')\n",
    "\n",
    "    if not os.path.exists(image_subfolder):\n",
    "        os.makedirs(image_subfolder)\n",
    "\n",
    "    if not os.path.exists(subset_folder):\n",
    "        os.makedirs(subset_folder)\n",
    "\n",
    "    # Initialize list to hold all JSON data\n",
    "    json_data_list = []\n",
    "\n",
    "    # Process and save images and labels\n",
    "    for item in dataset:\n",
    "        # Load image if it's a URL or a file path\n",
    "        if isinstance(item['image'], str):\n",
    "            response = requests.get(item['image'])\n",
    "            image = Image.open(BytesIO(response.content))\n",
    "        else:\n",
    "            image = item['image']  # Assuming it's a PIL.Image object\n",
    "\n",
    "        # Create a unique ID for each image\n",
    "        unique_id = str(uuid.uuid4())\n",
    "\n",
    "        # Define image path\n",
    "        image_path = os.path.join(image_subfolder, f\"{unique_id}.jpg\")\n",
    "\n",
    "        # Save image\n",
    "        image.save(image_path)\n",
    "\n",
    "        # Remove duplicates and format answers\n",
    "        answers = item['answers']\n",
    "        unique_answers = list(set(answers))\n",
    "        formatted_answers = \", \".join(unique_answers)\n",
    "\n",
    "        # Structure for LLaVA JSON\n",
    "        json_data = {\n",
    "            \"id\": unique_id,\n",
    "            \"image\": f\"{unique_id}.jpg\",\n",
    "            \"conversations\": [\n",
    "                {\n",
    "                    \"from\": \"human\",\n",
    "                    \"value\": item['question']\n",
    "                },\n",
    "                {\n",
    "                    \"from\": \"gpt\",\n",
    "                    \"value\": formatted_answers\n",
    "                }\n",
    "            ]\n",
    "        }\n",
    "\n",
    "\n",
    "        # Append to list\n",
    "        json_data_list.append(json_data)\n",
    "\n",
    "    # Save the JSON data list to a file\n",
    "    json_output_path = os.path.join(output_folder, subset_name, 'dataset.json')\n",
    "    with open(json_output_path, 'w') as json_file:\n",
    "        json.dump(json_data_list, json_file, indent=4)"
   ]
  },
  {
   "cell_type": "code",
   "execution_count": null,
   "metadata": {},
   "outputs": [],
   "source": [
    "def save_dataset(dataset_name, output_folder, class_name, subset_name, val_samples=None):\n",
    "    # Load the dataset from Hugging Face\n",
    "    dataset = load_dataset(dataset_name, split=subset_name)\n",
    "\n",
    "\n",
    "    # Filter for images with the specified class in 'question_type'\n",
    "    filtered_dataset = [item for item in dataset if item['question_type'] == class_name]\n",
    "\n",
    "\n",
    "    # Determine the split for training and validation\n",
    "    if val_samples is not None and subset_name == 'train':\n",
    "        train_dataset = filtered_dataset[val_samples:]\n",
    "        val_dataset = filtered_dataset[:val_samples]\n",
    "    else:\n",
    "        train_dataset = filtered_dataset\n",
    "        val_dataset = []\n",
    "\n",
    "\n",
    "    # Process and save the datasets\n",
    "    for subset, data in [('train', train_dataset), ('validation', val_dataset)]:\n",
    "        if data:\n",
    "            process_and_save(data, output_folder, subset)\n"
   ]
  },
  {
   "cell_type": "code",
   "execution_count": null,
   "metadata": {},
   "outputs": [],
   "source": [
    "# Usage example\n",
    "output_folder = 'dataset'\n",
    "class_name = 'other'\n",
    "val_samples = 300\n",
    "save_dataset('Multimodal-Fatima/OK-VQA_train', output_folder, class_name, 'train', val_samples)\n",
    "save_dataset('Multimodal-Fatima/OK-VQA_test', output_folder, class_name, 'test')"
   ]
  }
 ],
 "metadata": {
  "kernelspec": {
   "display_name": "llm",
   "language": "python",
   "name": "python3"
  },
  "language_info": {
   "codemirror_mode": {
    "name": "ipython",
    "version": 3
   },
   "file_extension": ".py",
   "mimetype": "text/x-python",
   "name": "python",
   "nbconvert_exporter": "python",
   "pygments_lexer": "ipython3",
   "version": "3.12.8"
  }
 },
 "nbformat": 4,
 "nbformat_minor": 2
}
