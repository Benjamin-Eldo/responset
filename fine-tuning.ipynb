{
 "cells": [
  {
   "cell_type": "code",
   "execution_count": null,
   "metadata": {},
   "outputs": [
    {
     "name": "stderr",
     "output_type": "stream",
     "text": [
      "Using a slow image processor as `use_fast` is unset and a slow processor was saved with this model. `use_fast=True` will be the default behavior in v4.48, even if the model was saved with a slow processor. This will result in minor differences in outputs. You'll still be able to use a slow processor with `use_fast=False`.\n"
     ]
    },
    {
     "data": {
      "application/vnd.jupyter.widget-view+json": {
       "model_id": "a29104db1e964f378d742148c5a7e634",
       "version_major": 2,
       "version_minor": 0
      },
      "text/plain": [
       "Loading checkpoint shards:   0%|          | 0/2 [00:00<?, ?it/s]"
      ]
     },
     "metadata": {},
     "output_type": "display_data"
    }
   ],
   "source": [
    "# Load model directly\n",
    "from transformers import AutoProcessor, AutoModelForImageTextToText, AutoTokenizer, pipeline, Trainer\n",
    "\n",
    "processor = AutoProcessor.from_pretrained(\"bczhou/tiny-llava-v1-hf\")\n",
    "model = AutoModelForImageTextToText.from_pretrained(\"bczhou/tiny-llava-v1-hf\")\n",
    "tokenizer = AutoTokenizer.from_pretrained(\"bczhou/tiny-llava-v1-hf\")\n",
    "\n",
    "trainer = Trainer(\n",
    "    model = model,\n",
    "    tokenizer = tokenizer,\n",
    ")"
   ]
  },
  {
   "cell_type": "code",
   "execution_count": 6,
   "metadata": {},
   "outputs": [
    {
     "data": {
      "application/vnd.jupyter.widget-view+json": {
       "model_id": "a2a7348077ea4688a05dffb54f645335",
       "version_major": 2,
       "version_minor": 0
      },
      "text/plain": [
       "Loading checkpoint shards:   0%|          | 0/2 [00:00<?, ?it/s]"
      ]
     },
     "metadata": {},
     "output_type": "display_data"
    },
    {
     "name": "stderr",
     "output_type": "stream",
     "text": [
      "Device set to use cuda:0\n"
     ]
    }
   ],
   "source": [
    "from transformers import pipeline\n",
    "from PIL import Image\n",
    "model_id = \"bczhou/tiny-llava-v1-hf\"\n",
    "pipe = pipeline(\"image-to-text\", model=model_id)"
   ]
  },
  {
   "cell_type": "code",
   "execution_count": 9,
   "metadata": {},
   "outputs": [
    {
     "name": "stdout",
     "output_type": "stream",
     "text": [
      "{'generated_text': \"USER:  \\nWhat is on this image\\nASSISTANT: The image is a screenshot of a website page displaying information about the game Borderlands 1. The page is in French and features a large image of a character, possibly a zombie, with a description of the game. The page also includes a list of the game's features, such as the number of players, the number of levels, and the number of weapons. The website is designed in a modern and visually appealing style, with a focus on the game's content and features.\"}\n"
     ]
    }
   ],
   "source": [
    "image = Image.open(\"./model/images/test.png\")\n",
    "prompt = \"USER: <image>\\nWhat is on this image\\nASSISTANT:\"\n",
    "outputs = pipe(image, prompt=prompt, generate_kwargs={\"max_new_tokens\": 200})\n",
    "print(outputs[0])\n"
   ]
  }
 ],
 "metadata": {
  "kernelspec": {
   "display_name": "llm2",
   "language": "python",
   "name": "python3"
  },
  "language_info": {
   "codemirror_mode": {
    "name": "ipython",
    "version": 3
   },
   "file_extension": ".py",
   "mimetype": "text/x-python",
   "name": "python",
   "nbconvert_exporter": "python",
   "pygments_lexer": "ipython3",
   "version": "3.11.11"
  }
 },
 "nbformat": 4,
 "nbformat_minor": 2
}
