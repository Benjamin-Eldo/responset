{
 "cells": [
  {
   "cell_type": "code",
   "execution_count": 4,
   "metadata": {},
   "outputs": [],
   "source": [
    "from vote_system import confront_dataset, filter_pairs\n",
    "from parsing import parse_stable_code\n",
    "\n",
    "%load_ext autoreload\n",
    "%autoreload 2"
   ]
  },
  {
   "cell_type": "code",
   "execution_count": 5,
   "metadata": {},
   "outputs": [],
   "source": [
    "list_tuple = confront_dataset([\"<meta name=\\\"viewport\\\" content=\\\"width=device-width, initial-scale=1.0\\\">\", \"salut\"], \n",
    "                 [\"<meta name=\\\"viewport\\\" content=\\\"width=device-width>\", \"salut moi\"])"
   ]
  },
  {
   "cell_type": "code",
   "execution_count": 6,
   "metadata": {},
   "outputs": [
    {
     "data": {
      "text/plain": [
       "[('<meta name=\"viewport\" content=\"width=device-width, initial-scale=1.0\">',\n",
       "  '<meta name=\"viewport\" content=\"width=device-width>',\n",
       "  0.7777777777777778),\n",
       " ('<meta name=\"viewport\" content=\"width=device-width, initial-scale=1.0\">',\n",
       "  'salut moi',\n",
       "  0.0),\n",
       " ('salut', '<meta name=\"viewport\" content=\"width=device-width>', 0.0),\n",
       " ('salut', 'salut moi', 0.6666666666666666)]"
      ]
     },
     "execution_count": 6,
     "metadata": {},
     "output_type": "execute_result"
    }
   ],
   "source": [
    "list_tuple"
   ]
  },
  {
   "cell_type": "code",
   "execution_count": 7,
   "metadata": {},
   "outputs": [
    {
     "data": {
      "text/plain": [
       "[('<meta name=\"viewport\" content=\"width=device-width, initial-scale=1.0\">',\n",
       "  '<meta name=\"viewport\" content=\"width=device-width>',\n",
       "  0.7777777777777778)]"
      ]
     },
     "execution_count": 7,
     "metadata": {},
     "output_type": "execute_result"
    }
   ],
   "source": [
    "filter_pairs(list_tuple)"
   ]
  },
  {
   "cell_type": "code",
   "execution_count": 35,
   "metadata": {},
   "outputs": [
    {
     "data": {
      "text/plain": [
       "['#fb_xdm_frame_https { visibility: hidden; }']"
      ]
     },
     "execution_count": 35,
     "metadata": {},
     "output_type": "execute_result"
    }
   ],
   "source": [
    "parse_stable_code(\"datasets/dataset_stable-code_intermediate.json\", \"airbnb_com\")\n",
    "\n"
   ]
  }
 ],
 "metadata": {
  "kernelspec": {
   "display_name": "cuda",
   "language": "python",
   "name": "python3"
  },
  "language_info": {
   "codemirror_mode": {
    "name": "ipython",
    "version": 3
   },
   "file_extension": ".py",
   "mimetype": "text/x-python",
   "name": "python",
   "nbconvert_exporter": "python",
   "pygments_lexer": "ipython3",
   "version": "3.12.7"
  }
 },
 "nbformat": 4,
 "nbformat_minor": 2
}
