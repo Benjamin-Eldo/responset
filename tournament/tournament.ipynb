{
 "cells": [
  {
   "cell_type": "code",
   "execution_count": 94,
   "metadata": {},
   "outputs": [
    {
     "name": "stdout",
     "output_type": "stream",
     "text": [
      "The autoreload extension is already loaded. To reload it, use:\n",
      "  %reload_ext autoreload\n"
     ]
    }
   ],
   "source": [
    "from vote_system import confront_dataset, filter_pairs, round, get_website_ids\n",
    "from parsing import parse_stable, parse_gemma, parse_qwen_coder\n",
    "\n",
    "%load_ext autoreload\n",
    "%autoreload 2"
   ]
  },
  {
   "cell_type": "code",
   "execution_count": 95,
   "metadata": {},
   "outputs": [],
   "source": [
    "list_tuple = confront_dataset([\"<meta name=\\\"viewport\\\" content=\\\"width=device-width, initial-scale=1.0\\\">\", \"salut\"], \n",
    "                 [\"<meta name=\\\"viewport\\\" content=\\\"width=device-width>\", \"salut moi\"])"
   ]
  },
  {
   "cell_type": "code",
   "execution_count": 96,
   "metadata": {},
   "outputs": [
    {
     "data": {
      "text/plain": [
       "[('<meta name=\"viewport\" content=\"width=device-width, initial-scale=1.0\">',\n",
       "  '<meta name=\"viewport\" content=\"width=device-width>',\n",
       "  0.7777777777777778),\n",
       " ('<meta name=\"viewport\" content=\"width=device-width, initial-scale=1.0\">',\n",
       "  'salut moi',\n",
       "  0.0),\n",
       " ('salut', '<meta name=\"viewport\" content=\"width=device-width>', 0.0),\n",
       " ('salut', 'salut moi', 0.6666666666666666)]"
      ]
     },
     "execution_count": 96,
     "metadata": {},
     "output_type": "execute_result"
    }
   ],
   "source": [
    "list_tuple"
   ]
  },
  {
   "cell_type": "code",
   "execution_count": 97,
   "metadata": {},
   "outputs": [
    {
     "data": {
      "text/plain": [
       "[('<meta name=\"viewport\" content=\"width=device-width, initial-scale=1.0\">',\n",
       "  '<meta name=\"viewport\" content=\"width=device-width>',\n",
       "  0.7777777777777778)]"
      ]
     },
     "execution_count": 97,
     "metadata": {},
     "output_type": "execute_result"
    }
   ],
   "source": [
    "filter_pairs(list_tuple)"
   ]
  },
  {
   "cell_type": "code",
   "execution_count": 98,
   "metadata": {},
   "outputs": [
    {
     "name": "stdout",
     "output_type": "stream",
     "text": [
      "\n"
     ]
    }
   ],
   "source": [
    "codes = parse_stable(\"datasets/dataset_stable-code_intermediate.json\", \"1c_ru\")\n",
    "for code in codes : \n",
    "    print(code)\n"
   ]
  },
  {
   "cell_type": "code",
   "execution_count": 99,
   "metadata": {},
   "outputs": [],
   "source": [
    "code_qwen = parse_qwen_coder(\"datasets/dataset_qwen2-5-coder_intermediate.json\", \"1c_ru\")"
   ]
  },
  {
   "cell_type": "code",
   "execution_count": 92,
   "metadata": {},
   "outputs": [
    {
     "data": {
      "text/plain": [
       "['@media (max-width: 768px) {',\n",
       " 'html, body {     margin: 0;     padding: 0; }',\n",
       " 'body {     font-family: Arial, sans-serif; }',\n",
       " '.container {     width: 90%;     max-width: 1200px;     margin: 0 auto; }',\n",
       " 'nav ul {     list-style-type: none;     padding: 0;     display: flex;     justify-content: space-between; }',\n",
       " '@media (max-width: 576px) {     nav ul {         flex-direction: column;     } }',\n",
       " 'section, footer {     padding: 20px; }',\n",
       " 'footer {     background-color: #333;     color: white;     text-align: center;     position: fixed;     width: 100%;     bottom: 0; }']"
      ]
     },
     "execution_count": 92,
     "metadata": {},
     "output_type": "execute_result"
    }
   ],
   "source": [
    "code_qwen"
   ]
  },
  {
   "cell_type": "code",
   "execution_count": 100,
   "metadata": {},
   "outputs": [],
   "source": [
    "code_gemma = parse_gemma(\"datasets/dataset_gemma_intermediate.json\", \"1c_ru\")"
   ]
  },
  {
   "cell_type": "code",
   "execution_count": 101,
   "metadata": {},
   "outputs": [
    {
     "data": {
      "text/plain": [
       "['<',\n",
       " '**HTML:**',\n",
       " '',\n",
       " '- Use media queries with breakpoints for different devices.',\n",
       " '- Utilize flexible layouts with flexible boxes or grid systems.',\n",
       " '- Include responsive image sizes with the `srcset',\n",
       " '',\n",
       " '',\n",
       " '**CSS:**',\n",
       " '',\n",
       " '- Use relative units like `%` or `em',\n",
       " '- Employ responsive navigation menus that collapse on smaller screens.',\n",
       " '- Design for different viewport sizes and adjust layouts accordingly.',\n",
       " '- Use responsive font sizes that adapt to screen sizes.',\n",
       " '- Consider using responsive plugins like Bootstrap or Foundation.',\n",
       " '']"
      ]
     },
     "execution_count": 101,
     "metadata": {},
     "output_type": "execute_result"
    }
   ],
   "source": [
    "code_gemma"
   ]
  },
  {
   "cell_type": "code",
   "execution_count": 102,
   "metadata": {},
   "outputs": [],
   "source": [
    "ids = get_website_ids(\"datasets/dataset_stable-code_intermediate.json\")"
   ]
  },
  {
   "cell_type": "code",
   "execution_count": 87,
   "metadata": {},
   "outputs": [
    {
     "name": "stdout",
     "output_type": "stream",
     "text": [
      "166_com\n",
      "[('<meta name=\"viewport\" content=\"width=device-width, initial-scale=1.0\">', '@media (max-width: 600px)', 0.13333333333333333), ('<meta name=\"viewport\" content=\"width=device-width, initial-scale=1.0\">', '<meta name=\"viewport\" content=\"width=device-width, initial-scale=1.0\">', 1.0), ('<meta name=\"viewport\" content=\"width=device-width, initial-scale=1.0\">', 'width: 100%', 0.15384615384615385), ('width: 100%;', '@media (max-width: 600px)', 0.3333333333333333), ('width: 100%;', '<meta name=\"viewport\" content=\"width=device-width, initial-scale=1.0\">', 0.15384615384615385), ('width: 100%;', 'width: 100%', 1.0), ('initial-scale', '<meta name=\"viewport\" content=\"width=device-width, initial-scale=1.0\">', 0.3076923076923077), ('width', '@media (max-width: 600px)', 0.4), ('width', '<meta name=\"viewport\" content=\"width=device-width, initial-scale=1.0\">', 0.16666666666666669), ('width', 'width: 100%', 0.6666666666666666), ('device-width', '@media (max-width: 600px)', 0.3333333333333333), ('device-width', '<meta name=\"viewport\" content=\"width=device-width, initial-scale=1.0\">', 0.3076923076923077), ('device-width', 'width: 100%', 0.5)]\n",
      "=====================\n",
      "1c_ru\n",
      "[]\n",
      "=====================\n",
      "1drv_com\n",
      "[('@media screen and (max-width: 425px) { /* Code for responsiveness on devices with a maximum width of 425px */ }', '@media screen and (max-width: 425px)', 0.5217391304347826), ('@media screen and (max-width: 425px) { /* Code for responsiveness on devices with a maximum width of 425px */ }', '@media screen and (min-width: 425px)', 0.4347826086956522), ('@media screen and (max-width: 425px) { /* Code for responsiveness on devices with a maximum width of 425px */ }', '@media screen and (min-width: 760px)', 0.3478260869565218), ('@media screen and (max-width: 425px) { /* Code for responsiveness on devices with a maximum width of 425px */ }', '@media screen and (min-height: 760px)', 0.2608695652173913), ('@media screen and (max-width: 425px) { /* Code for responsiveness on devices with a maximum width of 425px */ }', '@media screen and (min-height: 985px)', 0.2608695652173913), ('@media screen and (min-width: 760px) { /* Code for responsiveness on devices with a minimum width of 760px */ }', '@media screen and (max-width: 425px)', 0.3478260869565218), ('@media screen and (min-width: 760px) { /* Code for responsiveness on devices with a minimum width of 760px */ }', '@media screen and (min-width: 425px)', 0.4347826086956522), ('@media screen and (min-width: 760px) { /* Code for responsiveness on devices with a minimum width of 760px */ }', '@media screen and (min-width: 760px)', 0.5217391304347826), ('@media screen and (min-width: 760px) { /* Code for responsiveness on devices with a minimum width of 760px */ }', '@media screen and (min-height: 760px)', 0.4347826086956522), ('@media screen and (min-width: 760px) { /* Code for responsiveness on devices with a minimum width of 760px */ }', '@media screen and (min-height: 985px)', 0.3478260869565218), ('@media screen and (min-height: 985px) { /* Code for responsiveness on devices with a minimum height of 985px */ }', '@media screen and (max-width: 425px)', 0.2608695652173913), ('@media screen and (min-height: 985px) { /* Code for responsiveness on devices with a minimum height of 985px */ }', '@media screen and (min-width: 425px)', 0.3478260869565218), ('@media screen and (min-height: 985px) { /* Code for responsiveness on devices with a minimum height of 985px */ }', '@media screen and (min-width: 760px)', 0.3478260869565218), ('@media screen and (min-height: 985px) { /* Code for responsiveness on devices with a minimum height of 985px */ }', '@media screen and (min-height: 760px)', 0.4347826086956522), ('@media screen and (min-height: 985px) { /* Code for responsiveness on devices with a minimum height of 985px */ }', '@media screen and (min-height: 985px)', 0.5217391304347826)]\n",
      "=====================\n",
      "2gis_com\n",
      "[]\n",
      "=====================\n",
      "33across_com\n",
      "[('body { margin: 0; padding: 0; }', 'padding: 0', 0.5714285714285715)]\n",
      "=====================\n",
      "3lift_com\n",
      "[('<meta name=\"viewport\" content=\"width=device-width, initial-scale=1.0\">', '@media only screen and (max-width: 700px)', 0.1111111111111111), ('<meta name=\"viewport\" content=\"width=device-width, initial-scale=1.0\">', '@media only screen and (max-width: 760px)', 0.1111111111111111), ('<meta name=\"viewport\" content=\"width=device-width, initial-scale=1.0\">', '@media screen and (min-width: 768px)', 0.11764705882352942)]\n",
      "=====================\n",
      "a-mo_net\n",
      "[('@media (max-width: 600px) { /* Adjust layout and styles for smaller screens */ }', '@media (max-width: 600px) { nav { flex-direction: column; } nav a { padding: 10px; } }', 0.34782608695652173), ('@media (max-width: 600px) { /* Adjust layout and styles for smaller screens */ }', 'width: 100%;', 0.15384615384615385), ('nav { display: flex; justify-content: center; }', '@media (max-width: 600px) { nav { flex-direction: column; } nav a { padding: 10px; } }', 0.2222222222222222), ('nav { display: flex; justify-content: center; }', '<meta name=\"viewport\" content=\"width=device-width, initial-scale=1.0\">', 0.11764705882352942), ('nav { display: grid; }', '@media (max-width: 600px) { nav { flex-direction: column; } nav a { padding: 10px; } }', 0.13333333333333333), ('footer { position: fixed; bottom: 0; }', '<meta name=\"viewport\" content=\"width=device-width, initial-scale=1.0\">', 0.12500000000000003), ('body { font-size: 1.5vw; }', '<meta name=\"viewport\" content=\"width=device-width, initial-scale=1.0\">', 0.12500000000000003)]\n",
      "=====================\n",
      "aboutads_info\n",
      "[('@media screen and (max-width: 768px) { /* Your responsive code here */ }', '.highlight { width: 90%; height: 270px; }', 0.13333333333333333), ('.container { width: 100%; padding: 0 20px; /* Adjust the padding as needed */ }', '#menuBtn { font-size: 16px; padding: 5px 20px; margin: 10px 0px 0px; background: rgb(10, 173, 204); }', 0.14814814814814814), ('.container { width: 100%; padding: 0 20px; /* Adjust the padding as needed */ }', '.highlight { width: 90%; height: 270px; }', 0.12500000000000003), ('@media screen and (max-width: 768px) { .container { padding: 0 10px; /* Adjust the padding as needed */ } }', '#menuBtn { font-size: 16px; padding: 5px 20px; margin: 10px 0px 0px; background: rgb(10, 173, 204); }', 0.12903225806451615), ('@media screen and (max-width: 768px) { .container { padding: 0 10px; /* Adjust the padding as needed */ } }', '.highlight { width: 90%; height: 270px; }', 0.1)]\n",
      "=====================\n",
      "abovedomains_com\n",
      "[('content', '<meta name=\"viewport\" content=\"width=device-width, initial-scale=1.0\">', 0.16666666666666669), ('@media', '@media (max-width: 600px)', 0.4)]\n",
      "=====================\n",
      "addtoany_com\n",
      "[]\n",
      "=====================\n"
     ]
    }
   ],
   "source": [
    "for i in range(10):\n",
    "    print(ids[i])\n",
    "    cl_sc = parse_stable(\"datasets/dataset_stable-code_intermediate.json\", ids[i])\n",
    "    cl_gemma = parse_gemma(\"datasets/dataset_gemma_intermediate.json\", ids[i])\n",
    "\n",
    "    print(filter_pairs(confront_dataset(cl_sc, cl_gemma), threshold=0.1))\n",
    "\n",
    "    print('=====================')"
   ]
  },
  {
   "cell_type": "code",
   "execution_count": 103,
   "metadata": {},
   "outputs": [],
   "source": [
    "def tournament_for_website(website_id, threshold=0.1):\n",
    "    cl_sc = parse_stable(\"datasets/dataset_stable-code_intermediate.json\", website_id)\n",
    "    cl_gemma = parse_gemma(\"datasets/dataset_gemma_intermediate.json\", website_id)\n",
    "    \n",
    "    round1_winner = round(cl_sc, cl_gemma, threshold=threshold)\n",
    "    \n",
    "    return round1_winner"
   ]
  },
  {
   "cell_type": "code",
   "execution_count": 106,
   "metadata": {},
   "outputs": [
    {
     "data": {
      "text/plain": [
       "['<meta name=\"viewport\" content=\"width=device-width, initial-scale=1.0\">',\n",
       " 'width: 100%;',\n",
       " 'initial-scale',\n",
       " 'width',\n",
       " 'device-width']"
      ]
     },
     "execution_count": 106,
     "metadata": {},
     "output_type": "execute_result"
    }
   ],
   "source": [
    "tournament_for_website(\"166_com\", threshold=0.1)"
   ]
  }
 ],
 "metadata": {
  "kernelspec": {
   "display_name": "cuda",
   "language": "python",
   "name": "python3"
  },
  "language_info": {
   "codemirror_mode": {
    "name": "ipython",
    "version": 3
   },
   "file_extension": ".py",
   "mimetype": "text/x-python",
   "name": "python",
   "nbconvert_exporter": "python",
   "pygments_lexer": "ipython3",
   "version": "3.12.7"
  }
 },
 "nbformat": 4,
 "nbformat_minor": 2
}
