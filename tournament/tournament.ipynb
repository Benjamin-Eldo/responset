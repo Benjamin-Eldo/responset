{
 "cells": [
  {
   "cell_type": "code",
   "execution_count": 22,
   "metadata": {},
   "outputs": [
    {
     "name": "stdout",
     "output_type": "stream",
     "text": [
      "The autoreload extension is already loaded. To reload it, use:\n",
      "  %reload_ext autoreload\n"
     ]
    }
   ],
   "source": [
    "from vote_system import confront_dataset, filter_pairs, round, get_website_ids, get_element_by_id\n",
    "from response_parsing import parse_stable, parse_gemma, parse_qwen_coder, parse_deepseek\n",
    "import json\n",
    "\n",
    "%load_ext autoreload\n",
    "%autoreload 2"
   ]
  },
  {
   "cell_type": "code",
   "execution_count": 3,
   "metadata": {},
   "outputs": [
    {
     "name": "stdout",
     "output_type": "stream",
     "text": [
      "<meta name=\"viewport\" content=\"width=device-width, initial-scale=1.0\">\n",
      "nav { flex-direction: column; } nav a { padding: 10px; }\n",
      "width: 100%;\n",
      "\n",
      "initial-scale\n",
      "width\n",
      "device-width\n",
      "nav\n",
      "column\n",
      "nav a\n"
     ]
    }
   ],
   "source": [
    "codes = parse_stable(\"datasets/dataset_stable-code_intermediate.json\", \"166_com\")\n",
    "for code in codes : \n",
    "    print(code)\n"
   ]
  },
  {
   "cell_type": "code",
   "execution_count": 4,
   "metadata": {},
   "outputs": [],
   "source": [
    "code_qwen = parse_qwen_coder(\"datasets/dataset_qwen2-5-coder_intermediate.json\", \"1c_ru\")"
   ]
  },
  {
   "cell_type": "code",
   "execution_count": 5,
   "metadata": {},
   "outputs": [
    {
     "data": {
      "text/plain": [
       "['@media (max-width: 768px) {',\n",
       " 'html, body {     margin: 0;     padding: 0; }',\n",
       " 'body {     font-family: Arial, sans-serif; }',\n",
       " '.container {     width: 90%;     max-width: 1200px;     margin: 0 auto; }',\n",
       " 'nav ul {     list-style-type: none;     padding: 0;     display: flex;     justify-content: space-between; }',\n",
       " '@media (max-width: 576px) {     nav ul {         flex-direction: column;     } }',\n",
       " 'section, footer {     padding: 20px; }',\n",
       " 'footer {     background-color: #333;     color: white;     text-align: center;     position: fixed;     width: 100%;     bottom: 0; }']"
      ]
     },
     "execution_count": 5,
     "metadata": {},
     "output_type": "execute_result"
    }
   ],
   "source": [
    "code_qwen"
   ]
  },
  {
   "cell_type": "code",
   "execution_count": 100,
   "metadata": {},
   "outputs": [],
   "source": [
    "code_gemma = parse_gemma(\"datasets/dataset_gemma_intermediate.json\", \"1c_ru\")"
   ]
  },
  {
   "cell_type": "code",
   "execution_count": 101,
   "metadata": {},
   "outputs": [
    {
     "data": {
      "text/plain": [
       "['<',\n",
       " '**HTML:**',\n",
       " '',\n",
       " '- Use media queries with breakpoints for different devices.',\n",
       " '- Utilize flexible layouts with flexible boxes or grid systems.',\n",
       " '- Include responsive image sizes with the `srcset',\n",
       " '',\n",
       " '',\n",
       " '**CSS:**',\n",
       " '',\n",
       " '- Use relative units like `%` or `em',\n",
       " '- Employ responsive navigation menus that collapse on smaller screens.',\n",
       " '- Design for different viewport sizes and adjust layouts accordingly.',\n",
       " '- Use responsive font sizes that adapt to screen sizes.',\n",
       " '- Consider using responsive plugins like Bootstrap or Foundation.',\n",
       " '']"
      ]
     },
     "execution_count": 101,
     "metadata": {},
     "output_type": "execute_result"
    }
   ],
   "source": [
    "code_gemma"
   ]
  },
  {
   "cell_type": "code",
   "execution_count": 102,
   "metadata": {},
   "outputs": [],
   "source": [
    "ids = get_website_ids(\"datasets/dataset_stable-code_intermediate.json\")"
   ]
  },
  {
   "cell_type": "code",
   "execution_count": 87,
   "metadata": {},
   "outputs": [
    {
     "name": "stdout",
     "output_type": "stream",
     "text": [
      "166_com\n",
      "[('<meta name=\"viewport\" content=\"width=device-width, initial-scale=1.0\">', '@media (max-width: 600px)', 0.13333333333333333), ('<meta name=\"viewport\" content=\"width=device-width, initial-scale=1.0\">', '<meta name=\"viewport\" content=\"width=device-width, initial-scale=1.0\">', 1.0), ('<meta name=\"viewport\" content=\"width=device-width, initial-scale=1.0\">', 'width: 100%', 0.15384615384615385), ('width: 100%;', '@media (max-width: 600px)', 0.3333333333333333), ('width: 100%;', '<meta name=\"viewport\" content=\"width=device-width, initial-scale=1.0\">', 0.15384615384615385), ('width: 100%;', 'width: 100%', 1.0), ('initial-scale', '<meta name=\"viewport\" content=\"width=device-width, initial-scale=1.0\">', 0.3076923076923077), ('width', '@media (max-width: 600px)', 0.4), ('width', '<meta name=\"viewport\" content=\"width=device-width, initial-scale=1.0\">', 0.16666666666666669), ('width', 'width: 100%', 0.6666666666666666), ('device-width', '@media (max-width: 600px)', 0.3333333333333333), ('device-width', '<meta name=\"viewport\" content=\"width=device-width, initial-scale=1.0\">', 0.3076923076923077), ('device-width', 'width: 100%', 0.5)]\n",
      "=====================\n",
      "1c_ru\n",
      "[]\n",
      "=====================\n",
      "1drv_com\n",
      "[('@media screen and (max-width: 425px) { /* Code for responsiveness on devices with a maximum width of 425px */ }', '@media screen and (max-width: 425px)', 0.5217391304347826), ('@media screen and (max-width: 425px) { /* Code for responsiveness on devices with a maximum width of 425px */ }', '@media screen and (min-width: 425px)', 0.4347826086956522), ('@media screen and (max-width: 425px) { /* Code for responsiveness on devices with a maximum width of 425px */ }', '@media screen and (min-width: 760px)', 0.3478260869565218), ('@media screen and (max-width: 425px) { /* Code for responsiveness on devices with a maximum width of 425px */ }', '@media screen and (min-height: 760px)', 0.2608695652173913), ('@media screen and (max-width: 425px) { /* Code for responsiveness on devices with a maximum width of 425px */ }', '@media screen and (min-height: 985px)', 0.2608695652173913), ('@media screen and (min-width: 760px) { /* Code for responsiveness on devices with a minimum width of 760px */ }', '@media screen and (max-width: 425px)', 0.3478260869565218), ('@media screen and (min-width: 760px) { /* Code for responsiveness on devices with a minimum width of 760px */ }', '@media screen and (min-width: 425px)', 0.4347826086956522), ('@media screen and (min-width: 760px) { /* Code for responsiveness on devices with a minimum width of 760px */ }', '@media screen and (min-width: 760px)', 0.5217391304347826), ('@media screen and (min-width: 760px) { /* Code for responsiveness on devices with a minimum width of 760px */ }', '@media screen and (min-height: 760px)', 0.4347826086956522), ('@media screen and (min-width: 760px) { /* Code for responsiveness on devices with a minimum width of 760px */ }', '@media screen and (min-height: 985px)', 0.3478260869565218), ('@media screen and (min-height: 985px) { /* Code for responsiveness on devices with a minimum height of 985px */ }', '@media screen and (max-width: 425px)', 0.2608695652173913), ('@media screen and (min-height: 985px) { /* Code for responsiveness on devices with a minimum height of 985px */ }', '@media screen and (min-width: 425px)', 0.3478260869565218), ('@media screen and (min-height: 985px) { /* Code for responsiveness on devices with a minimum height of 985px */ }', '@media screen and (min-width: 760px)', 0.3478260869565218), ('@media screen and (min-height: 985px) { /* Code for responsiveness on devices with a minimum height of 985px */ }', '@media screen and (min-height: 760px)', 0.4347826086956522), ('@media screen and (min-height: 985px) { /* Code for responsiveness on devices with a minimum height of 985px */ }', '@media screen and (min-height: 985px)', 0.5217391304347826)]\n",
      "=====================\n",
      "2gis_com\n",
      "[]\n",
      "=====================\n",
      "33across_com\n",
      "[('body { margin: 0; padding: 0; }', 'padding: 0', 0.5714285714285715)]\n",
      "=====================\n",
      "3lift_com\n",
      "[('<meta name=\"viewport\" content=\"width=device-width, initial-scale=1.0\">', '@media only screen and (max-width: 700px)', 0.1111111111111111), ('<meta name=\"viewport\" content=\"width=device-width, initial-scale=1.0\">', '@media only screen and (max-width: 760px)', 0.1111111111111111), ('<meta name=\"viewport\" content=\"width=device-width, initial-scale=1.0\">', '@media screen and (min-width: 768px)', 0.11764705882352942)]\n",
      "=====================\n",
      "a-mo_net\n",
      "[('@media (max-width: 600px) { /* Adjust layout and styles for smaller screens */ }', '@media (max-width: 600px) { nav { flex-direction: column; } nav a { padding: 10px; } }', 0.34782608695652173), ('@media (max-width: 600px) { /* Adjust layout and styles for smaller screens */ }', 'width: 100%;', 0.15384615384615385), ('nav { display: flex; justify-content: center; }', '@media (max-width: 600px) { nav { flex-direction: column; } nav a { padding: 10px; } }', 0.2222222222222222), ('nav { display: flex; justify-content: center; }', '<meta name=\"viewport\" content=\"width=device-width, initial-scale=1.0\">', 0.11764705882352942), ('nav { display: grid; }', '@media (max-width: 600px) { nav { flex-direction: column; } nav a { padding: 10px; } }', 0.13333333333333333), ('footer { position: fixed; bottom: 0; }', '<meta name=\"viewport\" content=\"width=device-width, initial-scale=1.0\">', 0.12500000000000003), ('body { font-size: 1.5vw; }', '<meta name=\"viewport\" content=\"width=device-width, initial-scale=1.0\">', 0.12500000000000003)]\n",
      "=====================\n",
      "aboutads_info\n",
      "[('@media screen and (max-width: 768px) { /* Your responsive code here */ }', '.highlight { width: 90%; height: 270px; }', 0.13333333333333333), ('.container { width: 100%; padding: 0 20px; /* Adjust the padding as needed */ }', '#menuBtn { font-size: 16px; padding: 5px 20px; margin: 10px 0px 0px; background: rgb(10, 173, 204); }', 0.14814814814814814), ('.container { width: 100%; padding: 0 20px; /* Adjust the padding as needed */ }', '.highlight { width: 90%; height: 270px; }', 0.12500000000000003), ('@media screen and (max-width: 768px) { .container { padding: 0 10px; /* Adjust the padding as needed */ } }', '#menuBtn { font-size: 16px; padding: 5px 20px; margin: 10px 0px 0px; background: rgb(10, 173, 204); }', 0.12903225806451615), ('@media screen and (max-width: 768px) { .container { padding: 0 10px; /* Adjust the padding as needed */ } }', '.highlight { width: 90%; height: 270px; }', 0.1)]\n",
      "=====================\n",
      "abovedomains_com\n",
      "[('content', '<meta name=\"viewport\" content=\"width=device-width, initial-scale=1.0\">', 0.16666666666666669), ('@media', '@media (max-width: 600px)', 0.4)]\n",
      "=====================\n",
      "addtoany_com\n",
      "[]\n",
      "=====================\n"
     ]
    }
   ],
   "source": [
    "for i in range(10):\n",
    "    print(ids[i])\n",
    "    cl_sc = parse_stable(\"datasets/dataset_stable-code_intermediate.json\", ids[i])\n",
    "    cl_gemma = parse_gemma(\"datasets/dataset_gemma_intermediate.json\", ids[i])\n",
    "\n",
    "    print(filter_pairs(confront_dataset(cl_sc, cl_gemma), threshold=0.1))\n",
    "\n",
    "    print('=====================')"
   ]
  },
  {
   "cell_type": "code",
   "execution_count": 8,
   "metadata": {},
   "outputs": [],
   "source": [
    "def tournament_for_website(website_id, threshold=0.1):\n",
    "    cl_sc = parse_stable(\"datasets/dataset_stable-code_intermediate.json\", website_id)\n",
    "    cl_gemma = parse_gemma(\"datasets/dataset_gemma_intermediate.json\", website_id)\n",
    "    cl_qwen = parse_qwen_coder(\"datasets/dataset_qwen2-5-coder_intermediate.json\", website_id)\n",
    "    cl_deep = parse_deepseek(\"datasets/dataset_deepseek-coder_intermediate.json\", website_id)\n",
    "    \n",
    "    round1a_winner = round(cl_sc, cl_gemma, threshold=threshold)\n",
    "    round1b_winner = round(cl_qwen, cl_deep, threshold=threshold)\n",
    "\n",
    "    round2_winner = round(round1a_winner, round1b_winner, threshold=threshold)\n",
    "    \n",
    "    return round2_winner"
   ]
  },
  {
   "cell_type": "code",
   "execution_count": 10,
   "metadata": {},
   "outputs": [
    {
     "name": "stderr",
     "output_type": "stream",
     "text": [
      "d:\\Developpement\\web2code-m\\tournament\\response_parsing.py:78: SyntaxWarning: invalid escape sequence '\\s'\n",
      "  responsive_lines = re.findall(\"(@media.*\\s*)| (`*[\\.\\#][^!}]*[!};])| !([^!]+)!|\\`{3}([^\\`]*)\\`{3}|<([^>]+)>|^!([^!\\n]*)\", responsive, re.MULTILINE)\n"
     ]
    },
    {
     "data": {
      "text/plain": [
       "['<meta name=\"viewport\" content=\"width=device-width, initial-scale=1.0\">',\n",
       " 'width: 100%;',\n",
       " 'initial-scale',\n",
       " 'width',\n",
       " 'device-width']"
      ]
     },
     "execution_count": 10,
     "metadata": {},
     "output_type": "execute_result"
    }
   ],
   "source": [
    "tournament_for_website(\"166_com\", threshold=0.1)"
   ]
  },
  {
   "cell_type": "code",
   "execution_count": 24,
   "metadata": {},
   "outputs": [],
   "source": [
    "def build_dataset(path, threshold=0.1):\n",
    "    ids = get_website_ids(\"datasets/dataset_deepseek-coder_intermediate.json\")\n",
    "    dataset = []\n",
    "    with open(\"datasets/dataset_deepseek-coder_intermediate.json\", 'r') as file:\n",
    "        website_data = json.load(file)\n",
    "\n",
    "        for website_id in ids:\n",
    "            print(website_id)\n",
    "            winners = tournament_for_website(website_id, threshold=threshold)\n",
    "            if (len(winners) == 0):\n",
    "                continue\n",
    "\n",
    "            website = get_element_by_id(website_data, website_id)\n",
    "\n",
    "            data = {\n",
    "                \"website_id\": website_id, \n",
    "                \"html_code\": website[\"html_code\"], \n",
    "                \"css_code\": website[\"css_code\"], \n",
    "                \"responsive_explanation\": winners\n",
    "            }\n",
    "\n",
    "            dataset.append(data)\n",
    "\n",
    "    with open(path, 'w') as file:\n",
    "        json_object = json.dump(dataset, file)\n",
    "        file.write(json_object)\n",
    "\n",
    "    return dataset"
   ]
  },
  {
   "cell_type": "code",
   "execution_count": 25,
   "metadata": {},
   "outputs": [
    {
     "name": "stdout",
     "output_type": "stream",
     "text": [
      "166_com\n",
      "1c_ru\n",
      "1drv_com\n"
     ]
    },
    {
     "ename": "KeyboardInterrupt",
     "evalue": "",
     "output_type": "error",
     "traceback": [
      "\u001b[1;31m---------------------------------------------------------------------------\u001b[0m",
      "\u001b[1;31mKeyboardInterrupt\u001b[0m                         Traceback (most recent call last)",
      "Cell \u001b[1;32mIn[25], line 1\u001b[0m\n\u001b[1;32m----> 1\u001b[0m \u001b[43mbuild_dataset\u001b[49m\u001b[43m(\u001b[49m\u001b[38;5;124;43m\"\u001b[39;49m\u001b[38;5;124;43mdatasets/dataset_merged.json\u001b[39;49m\u001b[38;5;124;43m\"\u001b[39;49m\u001b[43m,\u001b[49m\u001b[43m \u001b[49m\u001b[43mthreshold\u001b[49m\u001b[38;5;241;43m=\u001b[39;49m\u001b[38;5;241;43m0.1\u001b[39;49m\u001b[43m)\u001b[49m\n",
      "Cell \u001b[1;32mIn[24], line 9\u001b[0m, in \u001b[0;36mbuild_dataset\u001b[1;34m(path, threshold)\u001b[0m\n\u001b[0;32m      7\u001b[0m \u001b[38;5;28;01mfor\u001b[39;00m website_id \u001b[38;5;129;01min\u001b[39;00m ids:\n\u001b[0;32m      8\u001b[0m     \u001b[38;5;28mprint\u001b[39m(website_id)\n\u001b[1;32m----> 9\u001b[0m     winners \u001b[38;5;241m=\u001b[39m \u001b[43mtournament_for_website\u001b[49m\u001b[43m(\u001b[49m\u001b[43mwebsite_id\u001b[49m\u001b[43m,\u001b[49m\u001b[43m \u001b[49m\u001b[43mthreshold\u001b[49m\u001b[38;5;241;43m=\u001b[39;49m\u001b[43mthreshold\u001b[49m\u001b[43m)\u001b[49m\n\u001b[0;32m     10\u001b[0m     \u001b[38;5;28;01mif\u001b[39;00m (\u001b[38;5;28mlen\u001b[39m(winners) \u001b[38;5;241m==\u001b[39m \u001b[38;5;241m0\u001b[39m):\n\u001b[0;32m     11\u001b[0m         \u001b[38;5;28;01mcontinue\u001b[39;00m\n",
      "Cell \u001b[1;32mIn[8], line 4\u001b[0m, in \u001b[0;36mtournament_for_website\u001b[1;34m(website_id, threshold)\u001b[0m\n\u001b[0;32m      2\u001b[0m cl_sc \u001b[38;5;241m=\u001b[39m parse_stable(\u001b[38;5;124m\"\u001b[39m\u001b[38;5;124mdatasets/dataset_stable-code_intermediate.json\u001b[39m\u001b[38;5;124m\"\u001b[39m, website_id)\n\u001b[0;32m      3\u001b[0m cl_gemma \u001b[38;5;241m=\u001b[39m parse_gemma(\u001b[38;5;124m\"\u001b[39m\u001b[38;5;124mdatasets/dataset_gemma_intermediate.json\u001b[39m\u001b[38;5;124m\"\u001b[39m, website_id)\n\u001b[1;32m----> 4\u001b[0m cl_qwen \u001b[38;5;241m=\u001b[39m \u001b[43mparse_qwen_coder\u001b[49m\u001b[43m(\u001b[49m\u001b[38;5;124;43m\"\u001b[39;49m\u001b[38;5;124;43mdatasets/dataset_qwen2-5-coder_intermediate.json\u001b[39;49m\u001b[38;5;124;43m\"\u001b[39;49m\u001b[43m,\u001b[49m\u001b[43m \u001b[49m\u001b[43mwebsite_id\u001b[49m\u001b[43m)\u001b[49m\n\u001b[0;32m      5\u001b[0m cl_deep \u001b[38;5;241m=\u001b[39m parse_deepseek(\u001b[38;5;124m\"\u001b[39m\u001b[38;5;124mdatasets/dataset_deepseek-coder_intermediate.json\u001b[39m\u001b[38;5;124m\"\u001b[39m, website_id)\n\u001b[0;32m      7\u001b[0m round1a_winner \u001b[38;5;241m=\u001b[39m \u001b[38;5;28mround\u001b[39m(cl_sc, cl_gemma, threshold\u001b[38;5;241m=\u001b[39mthreshold)\n",
      "File \u001b[1;32md:\\Developpement\\web2code-m\\tournament\\response_parsing.py:70\u001b[0m, in \u001b[0;36mparse_qwen_coder\u001b[1;34m(dataset, website_id)\u001b[0m\n\u001b[0;32m     68\u001b[0m parsed_responsive_line \u001b[38;5;241m=\u001b[39m []\n\u001b[0;32m     69\u001b[0m \u001b[38;5;28;01mwith\u001b[39;00m \u001b[38;5;28mopen\u001b[39m(dataset, \u001b[38;5;124m\"\u001b[39m\u001b[38;5;124mr\u001b[39m\u001b[38;5;124m\"\u001b[39m, encoding\u001b[38;5;241m=\u001b[39m\u001b[38;5;124m\"\u001b[39m\u001b[38;5;124mutf-8\u001b[39m\u001b[38;5;124m\"\u001b[39m) \u001b[38;5;28;01mas\u001b[39;00m f:\n\u001b[1;32m---> 70\u001b[0m     data \u001b[38;5;241m=\u001b[39m \u001b[43mjson\u001b[49m\u001b[38;5;241;43m.\u001b[39;49m\u001b[43mload\u001b[49m\u001b[43m(\u001b[49m\u001b[43mf\u001b[49m\u001b[43m)\u001b[49m\n\u001b[0;32m     72\u001b[0m responsive \u001b[38;5;241m=\u001b[39m \u001b[38;5;28;01mNone\u001b[39;00m\n\u001b[0;32m     74\u001b[0m \u001b[38;5;28;01mfor\u001b[39;00m site \u001b[38;5;129;01min\u001b[39;00m data:\n",
      "File \u001b[1;32mc:\\Users\\benva\\.conda\\envs\\cuda\\Lib\\json\\__init__.py:293\u001b[0m, in \u001b[0;36mload\u001b[1;34m(fp, cls, object_hook, parse_float, parse_int, parse_constant, object_pairs_hook, **kw)\u001b[0m\n\u001b[0;32m    274\u001b[0m \u001b[38;5;28;01mdef\u001b[39;00m \u001b[38;5;21mload\u001b[39m(fp, \u001b[38;5;241m*\u001b[39m, \u001b[38;5;28mcls\u001b[39m\u001b[38;5;241m=\u001b[39m\u001b[38;5;28;01mNone\u001b[39;00m, object_hook\u001b[38;5;241m=\u001b[39m\u001b[38;5;28;01mNone\u001b[39;00m, parse_float\u001b[38;5;241m=\u001b[39m\u001b[38;5;28;01mNone\u001b[39;00m,\n\u001b[0;32m    275\u001b[0m         parse_int\u001b[38;5;241m=\u001b[39m\u001b[38;5;28;01mNone\u001b[39;00m, parse_constant\u001b[38;5;241m=\u001b[39m\u001b[38;5;28;01mNone\u001b[39;00m, object_pairs_hook\u001b[38;5;241m=\u001b[39m\u001b[38;5;28;01mNone\u001b[39;00m, \u001b[38;5;241m*\u001b[39m\u001b[38;5;241m*\u001b[39mkw):\n\u001b[0;32m    276\u001b[0m \u001b[38;5;250m    \u001b[39m\u001b[38;5;124;03m\"\"\"Deserialize ``fp`` (a ``.read()``-supporting file-like object containing\u001b[39;00m\n\u001b[0;32m    277\u001b[0m \u001b[38;5;124;03m    a JSON document) to a Python object.\u001b[39;00m\n\u001b[0;32m    278\u001b[0m \n\u001b[1;32m   (...)\u001b[0m\n\u001b[0;32m    291\u001b[0m \u001b[38;5;124;03m    kwarg; otherwise ``JSONDecoder`` is used.\u001b[39;00m\n\u001b[0;32m    292\u001b[0m \u001b[38;5;124;03m    \"\"\"\u001b[39;00m\n\u001b[1;32m--> 293\u001b[0m     \u001b[38;5;28;01mreturn\u001b[39;00m \u001b[43mloads\u001b[49m\u001b[43m(\u001b[49m\u001b[43mfp\u001b[49m\u001b[38;5;241;43m.\u001b[39;49m\u001b[43mread\u001b[49m\u001b[43m(\u001b[49m\u001b[43m)\u001b[49m\u001b[43m,\u001b[49m\n\u001b[0;32m    294\u001b[0m \u001b[43m        \u001b[49m\u001b[38;5;28;43mcls\u001b[39;49m\u001b[38;5;241;43m=\u001b[39;49m\u001b[38;5;28;43mcls\u001b[39;49m\u001b[43m,\u001b[49m\u001b[43m \u001b[49m\u001b[43mobject_hook\u001b[49m\u001b[38;5;241;43m=\u001b[39;49m\u001b[43mobject_hook\u001b[49m\u001b[43m,\u001b[49m\n\u001b[0;32m    295\u001b[0m \u001b[43m        \u001b[49m\u001b[43mparse_float\u001b[49m\u001b[38;5;241;43m=\u001b[39;49m\u001b[43mparse_float\u001b[49m\u001b[43m,\u001b[49m\u001b[43m \u001b[49m\u001b[43mparse_int\u001b[49m\u001b[38;5;241;43m=\u001b[39;49m\u001b[43mparse_int\u001b[49m\u001b[43m,\u001b[49m\n\u001b[0;32m    296\u001b[0m \u001b[43m        \u001b[49m\u001b[43mparse_constant\u001b[49m\u001b[38;5;241;43m=\u001b[39;49m\u001b[43mparse_constant\u001b[49m\u001b[43m,\u001b[49m\u001b[43m \u001b[49m\u001b[43mobject_pairs_hook\u001b[49m\u001b[38;5;241;43m=\u001b[39;49m\u001b[43mobject_pairs_hook\u001b[49m\u001b[43m,\u001b[49m\u001b[43m \u001b[49m\u001b[38;5;241;43m*\u001b[39;49m\u001b[38;5;241;43m*\u001b[39;49m\u001b[43mkw\u001b[49m\u001b[43m)\u001b[49m\n",
      "File \u001b[1;32mc:\\Users\\benva\\.conda\\envs\\cuda\\Lib\\json\\__init__.py:346\u001b[0m, in \u001b[0;36mloads\u001b[1;34m(s, cls, object_hook, parse_float, parse_int, parse_constant, object_pairs_hook, **kw)\u001b[0m\n\u001b[0;32m    341\u001b[0m     s \u001b[38;5;241m=\u001b[39m s\u001b[38;5;241m.\u001b[39mdecode(detect_encoding(s), \u001b[38;5;124m'\u001b[39m\u001b[38;5;124msurrogatepass\u001b[39m\u001b[38;5;124m'\u001b[39m)\n\u001b[0;32m    343\u001b[0m \u001b[38;5;28;01mif\u001b[39;00m (\u001b[38;5;28mcls\u001b[39m \u001b[38;5;129;01mis\u001b[39;00m \u001b[38;5;28;01mNone\u001b[39;00m \u001b[38;5;129;01mand\u001b[39;00m object_hook \u001b[38;5;129;01mis\u001b[39;00m \u001b[38;5;28;01mNone\u001b[39;00m \u001b[38;5;129;01mand\u001b[39;00m\n\u001b[0;32m    344\u001b[0m         parse_int \u001b[38;5;129;01mis\u001b[39;00m \u001b[38;5;28;01mNone\u001b[39;00m \u001b[38;5;129;01mand\u001b[39;00m parse_float \u001b[38;5;129;01mis\u001b[39;00m \u001b[38;5;28;01mNone\u001b[39;00m \u001b[38;5;129;01mand\u001b[39;00m\n\u001b[0;32m    345\u001b[0m         parse_constant \u001b[38;5;129;01mis\u001b[39;00m \u001b[38;5;28;01mNone\u001b[39;00m \u001b[38;5;129;01mand\u001b[39;00m object_pairs_hook \u001b[38;5;129;01mis\u001b[39;00m \u001b[38;5;28;01mNone\u001b[39;00m \u001b[38;5;129;01mand\u001b[39;00m \u001b[38;5;129;01mnot\u001b[39;00m kw):\n\u001b[1;32m--> 346\u001b[0m     \u001b[38;5;28;01mreturn\u001b[39;00m \u001b[43m_default_decoder\u001b[49m\u001b[38;5;241;43m.\u001b[39;49m\u001b[43mdecode\u001b[49m\u001b[43m(\u001b[49m\u001b[43ms\u001b[49m\u001b[43m)\u001b[49m\n\u001b[0;32m    347\u001b[0m \u001b[38;5;28;01mif\u001b[39;00m \u001b[38;5;28mcls\u001b[39m \u001b[38;5;129;01mis\u001b[39;00m \u001b[38;5;28;01mNone\u001b[39;00m:\n\u001b[0;32m    348\u001b[0m     \u001b[38;5;28mcls\u001b[39m \u001b[38;5;241m=\u001b[39m JSONDecoder\n",
      "File \u001b[1;32mc:\\Users\\benva\\.conda\\envs\\cuda\\Lib\\json\\decoder.py:338\u001b[0m, in \u001b[0;36mJSONDecoder.decode\u001b[1;34m(self, s, _w)\u001b[0m\n\u001b[0;32m    333\u001b[0m \u001b[38;5;250m\u001b[39m\u001b[38;5;124;03m\"\"\"Return the Python representation of ``s`` (a ``str`` instance\u001b[39;00m\n\u001b[0;32m    334\u001b[0m \u001b[38;5;124;03mcontaining a JSON document).\u001b[39;00m\n\u001b[0;32m    335\u001b[0m \n\u001b[0;32m    336\u001b[0m \u001b[38;5;124;03m\"\"\"\u001b[39;00m\n\u001b[0;32m    337\u001b[0m obj, end \u001b[38;5;241m=\u001b[39m \u001b[38;5;28mself\u001b[39m\u001b[38;5;241m.\u001b[39mraw_decode(s, idx\u001b[38;5;241m=\u001b[39m_w(s, \u001b[38;5;241m0\u001b[39m)\u001b[38;5;241m.\u001b[39mend())\n\u001b[1;32m--> 338\u001b[0m end \u001b[38;5;241m=\u001b[39m \u001b[43m_w\u001b[49m\u001b[43m(\u001b[49m\u001b[43ms\u001b[49m\u001b[43m,\u001b[49m\u001b[43m \u001b[49m\u001b[43mend\u001b[49m\u001b[43m)\u001b[49m\u001b[38;5;241m.\u001b[39mend()\n\u001b[0;32m    339\u001b[0m \u001b[38;5;28;01mif\u001b[39;00m end \u001b[38;5;241m!=\u001b[39m \u001b[38;5;28mlen\u001b[39m(s):\n\u001b[0;32m    340\u001b[0m     \u001b[38;5;28;01mraise\u001b[39;00m JSONDecodeError(\u001b[38;5;124m\"\u001b[39m\u001b[38;5;124mExtra data\u001b[39m\u001b[38;5;124m\"\u001b[39m, s, end)\n",
      "\u001b[1;31mKeyboardInterrupt\u001b[0m: "
     ]
    }
   ],
   "source": [
    "build_dataset(\"datasets/dataset_merged.json\", threshold=0.1)"
   ]
  }
 ],
 "metadata": {
  "kernelspec": {
   "display_name": "cuda",
   "language": "python",
   "name": "python3"
  },
  "language_info": {
   "codemirror_mode": {
    "name": "ipython",
    "version": 3
   },
   "file_extension": ".py",
   "mimetype": "text/x-python",
   "name": "python",
   "nbconvert_exporter": "python",
   "pygments_lexer": "ipython3",
   "version": "3.12.7"
  }
 },
 "nbformat": 4,
 "nbformat_minor": 2
}
