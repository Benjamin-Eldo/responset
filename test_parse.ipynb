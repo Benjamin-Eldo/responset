{
 "cells": [
  {
   "cell_type": "code",
   "execution_count": 38,
   "metadata": {},
   "outputs": [
    {
     "data": {
      "text/plain": [
       "<module 'utils' from 'c:\\\\Users\\\\arthu\\\\Documents\\\\Cours\\\\Master 2\\\\LLM\\\\web2code-m\\\\utils.py'>"
      ]
     },
     "execution_count": 38,
     "metadata": {},
     "output_type": "execute_result"
    }
   ],
   "source": [
    "import utils\n",
    "import importlib\n",
    "importlib.reload(utils)"
   ]
  },
  {
   "cell_type": "code",
   "execution_count": 39,
   "metadata": {},
   "outputs": [
    {
     "name": "stdout",
     "output_type": "stream",
     "text": [
      "Before:  ! `@media (prefers-color-scheme: dark)` for dark mode responsiveness\n",
      "! `@media (prefers-color-scheme: dark)` for dark mode typography adjustments\n",
      "! `height: 76.391px` for responsive loading spinner\n",
      "! `display: block` or `flex` for responsive layout elements\n",
      "! `width: 100%` for responsive width adjustments\n",
      "! `padding: 0` for responsive margin removal\n",
      "! `position: relative` or `absolute` for responsive positioning \n",
      "\n",
      "Responsive_line: @media (prefers-color-scheme: dark)\n",
      "Responsive_line: @media (prefers-color-scheme: dark)\n",
      "Responsive_line: height: 76.391px\n",
      "Responsive_line: display: block` or `flex\n",
      "Responsive_line: width: 100%\n",
      "Responsive_line: padding: 0\n",
      "Responsive_line: position: relative` or `absolute\n"
     ]
    },
    {
     "data": {
      "text/plain": [
       "['@media (prefers-color-scheme: dark)',\n",
       " '@media (prefers-color-scheme: dark)',\n",
       " 'height: 76.391px',\n",
       " 'display: block` or `flex',\n",
       " 'width: 100%',\n",
       " 'padding: 0',\n",
       " 'position: relative` or `absolute']"
      ]
     },
     "execution_count": 39,
     "metadata": {},
     "output_type": "execute_result"
    }
   ],
   "source": [
    "utils.parse_gemma(\"dataset_gemma_intermediate.json\", \"33across_com\")"
   ]
  },
  {
   "cell_type": "code",
   "execution_count": 43,
   "metadata": {},
   "outputs": [
    {
     "name": "stdout",
     "output_type": "stream",
     "text": [
      "Before:  ! `@media (max-width: 768px)`\n",
      "! `display: none;`\n",
      "! `font-size: 14px;`\n",
      "! `margin: 0px; padding: 0px;`\n",
      "! `max-width: 1000px;` \n",
      "\n",
      "Responsive_line: @media (max-width: 768px)\n",
      "Responsive_line: display: none;\n",
      "Responsive_line: font-size: 14px;\n",
      "Responsive_line: margin: 0px; padding: 0px;\n",
      "Responsive_line: max-width: 1000px;\n"
     ]
    },
    {
     "data": {
      "text/plain": [
       "['@media (max-width: 768px)',\n",
       " 'display: none;',\n",
       " 'font-size: 14px;',\n",
       " 'margin: 0px; padding: 0px;',\n",
       " 'max-width: 1000px;']"
      ]
     },
     "execution_count": 43,
     "metadata": {},
     "output_type": "execute_result"
    }
   ],
   "source": [
    "utils.parse_gemma(\"dataset_gemma_intermediate.json\", \"amazon_de\")"
   ]
  }
 ],
 "metadata": {
  "kernelspec": {
   "display_name": "cuda",
   "language": "python",
   "name": "python3"
  },
  "language_info": {
   "codemirror_mode": {
    "name": "ipython",
    "version": 3
   },
   "file_extension": ".py",
   "mimetype": "text/x-python",
   "name": "python",
   "nbconvert_exporter": "python",
   "pygments_lexer": "ipython3",
   "version": "3.11.10"
  }
 },
 "nbformat": 4,
 "nbformat_minor": 2
}
