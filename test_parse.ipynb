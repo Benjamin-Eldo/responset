{
 "cells": [
  {
   "cell_type": "code",
   "execution_count": 138,
   "metadata": {},
   "outputs": [
    {
     "data": {
      "text/plain": [
       "<module 'utils' from 'c:\\\\Users\\\\arthu\\\\Documents\\\\Cours\\\\Master 2\\\\LLM\\\\web2code-m\\\\utils.py'>"
      ]
     },
     "execution_count": 138,
     "metadata": {},
     "output_type": "execute_result"
    }
   ],
   "source": [
    "import utils\n",
    "import importlib\n",
    "importlib.reload(utils)"
   ]
  },
  {
   "cell_type": "code",
   "execution_count": 52,
   "metadata": {},
   "outputs": [
    {
     "name": "stdout",
     "output_type": "stream",
     "text": [
      "Before:  ! `@media (max-width: 600px)`\n",
      "! `<meta name=\"viewport\" content=\"width=device-width, initial-scale=1.0\">`\n",
      "! `width: 100%` \n",
      "\n",
      "Responsive_line: @media (max-width: 600px)\n",
      "Responsive_line: <meta name=\"viewport\" content=\"width=device-width, initial-scale=1.0\">\n",
      "Responsive_line: width: 100%\n"
     ]
    },
    {
     "data": {
      "text/plain": [
       "['@media (max-width: 600px)',\n",
       " '<meta name=\"viewport\" content=\"width=device-width, initial-scale=1.0\">',\n",
       " 'width: 100%']"
      ]
     },
     "execution_count": 52,
     "metadata": {},
     "output_type": "execute_result"
    }
   ],
   "source": [
    "utils.parse_gemma(\"dataset_gemma_intermediate.json\", \"33across_com\")"
   ]
  },
  {
   "cell_type": "code",
   "execution_count": 139,
   "metadata": {},
   "outputs": [
    {
     "name": "stdout",
     "output_type": "stream",
     "text": [
      "Before:  - `@media (min-width: 768px) { ... }`\n",
      "- `.scale-appear { height: 48px; width: 48px; }`\n",
      "- `body { font-family: Arial, Helvetica, sans-serif; }`\n",
      "- `.container { align-items: center; display: flex; flex-direction: column; gap: 2rem; height: 100%; justify-content: center; width: 100%; }`\n",
      "- `.scale-appear { animation: 0.4s ease-out 0s 1 normal none running enlarge-appear; }` \n",
      "\n",
      "Responsive_line: @media (min-width: 768px) { ... }`\n",
      "Responsive_line: .scale-appear { height: 48px; width: 48px; }\n",
      "Responsive_line: .container { align-items: center; display: flex; flex-direction: column; gap: 2rem; height: 100%; justify-content: center; width: 100%; }\n",
      "Responsive_line: .scale-appear { animation: 0.4s ease-out 0s 1 normal none running enlarge-appear; }\n"
     ]
    },
    {
     "data": {
      "text/plain": [
       "['@media (min-width: 768px) { ... }`',\n",
       " '.scale-appear { height: 48px; width: 48px; }',\n",
       " '.container { align-items: center; display: flex; flex-direction: column; gap: 2rem; height: 100%; justify-content: center; width: 100%; }',\n",
       " '.scale-appear { animation: 0.4s ease-out 0s 1 normal none running enlarge-appear; }']"
      ]
     },
     "execution_count": 139,
     "metadata": {},
     "output_type": "execute_result"
    }
   ],
   "source": [
    "utils.parse_qwen_coder(\"dataset_qwen2-5-coder_intermediate.json\", \"chatgpt_com\")"
   ]
  }
 ],
 "metadata": {
  "kernelspec": {
   "display_name": "cuda",
   "language": "python",
   "name": "python3"
  },
  "language_info": {
   "codemirror_mode": {
    "name": "ipython",
    "version": 3
   },
   "file_extension": ".py",
   "mimetype": "text/x-python",
   "name": "python",
   "nbconvert_exporter": "python",
   "pygments_lexer": "ipython3",
   "version": "3.11.10"
  }
 },
 "nbformat": 4,
 "nbformat_minor": 2
}
