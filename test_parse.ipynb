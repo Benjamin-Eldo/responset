{
 "cells": [
  {
   "cell_type": "code",
   "execution_count": 90,
   "metadata": {},
   "outputs": [
    {
     "data": {
      "text/plain": [
       "<module 'utils' from 'c:\\\\Users\\\\arthu\\\\Documents\\\\Cours\\\\Master 2\\\\LLM\\\\web2code-m\\\\utils.py'>"
      ]
     },
     "execution_count": 90,
     "metadata": {},
     "output_type": "execute_result"
    }
   ],
   "source": [
    "import utils\n",
    "import importlib\n",
    "importlib.reload(utils)"
   ]
  },
  {
   "cell_type": "code",
   "execution_count": 52,
   "metadata": {},
   "outputs": [
    {
     "name": "stdout",
     "output_type": "stream",
     "text": [
      "Before:  ! `@media (max-width: 600px)`\n",
      "! `<meta name=\"viewport\" content=\"width=device-width, initial-scale=1.0\">`\n",
      "! `width: 100%` \n",
      "\n",
      "Responsive_line: @media (max-width: 600px)\n",
      "Responsive_line: <meta name=\"viewport\" content=\"width=device-width, initial-scale=1.0\">\n",
      "Responsive_line: width: 100%\n"
     ]
    },
    {
     "data": {
      "text/plain": [
       "['@media (max-width: 600px)',\n",
       " '<meta name=\"viewport\" content=\"width=device-width, initial-scale=1.0\">',\n",
       " 'width: 100%']"
      ]
     },
     "execution_count": 52,
     "metadata": {},
     "output_type": "execute_result"
    }
   ],
   "source": [
    "utils.parse_gemma(\"dataset_gemma_intermediate.json\", \"33across_com\")"
   ]
  },
  {
   "cell_type": "code",
   "execution_count": 94,
   "metadata": {},
   "outputs": [
    {
     "name": "stdout",
     "output_type": "stream",
     "text": [
      "Before:  - HTML: !<!DOCTYPE html>!DOCTYPE html>\n",
      "- CSS:\n",
      "  - Responsive width for images: !img{max-width:100%;}!\n",
      "  - Media query for mobile: @media (max-width:600px){body{font-size:14px;}}!\n",
      "  - Flexbox layout for responsive design: .container{display:flex;}!\n",
      "  - Responsive grid system: .grid-item{width:25%;}@media (max-width:768px){.grid-item{width:50%;}}!\n",
      "  - Media query for tablet landscape: @media (min-width:769px) and (max-width:1023px){body{background-color:#f0f0f0;}}! \n",
      "\n",
      "Responsive_line: <\n",
      "Responsive_line: img{max-width:100%;}\n",
      "Responsive_line: @media (max-width:600px){body{font-size:14px;}}!\n",
      "Responsive_line: .container{display:flex;}\n",
      "Responsive_line: .grid-item{width:25%;}\n",
      "Responsive_line: @media (max-width:768px){.grid-item{width:50%;}}!\n",
      "Responsive_line: @media (min-width:769px) and (max-width:1023px){body{background-color:#f0f0f0;}}\n"
     ]
    },
    {
     "data": {
      "text/plain": [
       "['<',\n",
       " 'img{max-width:100%;}',\n",
       " '@media (max-width:600px){body{font-size:14px;}}!',\n",
       " '.container{display:flex;}',\n",
       " '.grid-item{width:25%;}',\n",
       " '@media (max-width:768px){.grid-item{width:50%;}}!',\n",
       " '@media (min-width:769px) and (max-width:1023px){body{background-color:#f0f0f0;}}']"
      ]
     },
     "execution_count": 94,
     "metadata": {},
     "output_type": "execute_result"
    }
   ],
   "source": [
    "utils.parse_qwen_coder(\"dataset_qwen2-5-coder_intermediate.json\", \"33across_com\")"
   ]
  }
 ],
 "metadata": {
  "kernelspec": {
   "display_name": "cuda",
   "language": "python",
   "name": "python3"
  },
  "language_info": {
   "codemirror_mode": {
    "name": "ipython",
    "version": 3
   },
   "file_extension": ".py",
   "mimetype": "text/x-python",
   "name": "python",
   "nbconvert_exporter": "python",
   "pygments_lexer": "ipython3",
   "version": "3.11.10"
  }
 },
 "nbformat": 4,
 "nbformat_minor": 2
}
